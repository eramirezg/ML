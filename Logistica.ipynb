{
 "cells": [
  {
   "cell_type": "markdown",
   "id": "a948e351",
   "metadata": {},
   "source": [
    "# Regresión logistica"
   ]
  },
  {
   "cell_type": "markdown",
   "id": "997be3c2",
   "metadata": {},
   "source": [
    "- Aprendizaje **supervisado**\n",
    "\n",
    "- Aprendizaje **basado en modelo**\n",
    "\n",
    "- Se corresponde con un **modelo lineal generalizado**\n",
    "\n",
    "- Realiza predicciones computando una **suma ponderada de las caracteristica de entrada** y sumándole una constante conocida como *bias*, pero se aplica una función logística al resultado\n",
    "\n",
    "- Intenta predecir **valores discretos**"
   ]
  },
  {
   "cell_type": "markdown",
   "id": "f63afec0",
   "metadata": {},
   "source": [
    "Conjunto de datos de entrenamiento (dataset)\n",
    "\n",
    "$x$ = variable de entrada\n",
    "\n",
    "$y$ = variable de salida, $y\\in\\{0,1\\}$ Clasificación binaria,\n",
    "\n",
    "o puede ser $y\\in\\{0,1,\\dots,n\\}$ Clasificación multiclase\n",
    "\n",
    "$(x,y)$ = ejemplo de entrenamiento\n",
    "\n"
   ]
  },
  {
   "cell_type": "markdown",
   "id": "fd2d4777",
   "metadata": {},
   "source": [
    "## Función hipótesis"
   ]
  },
  {
   "cell_type": "markdown",
   "id": "b50ef241",
   "metadata": {},
   "source": [
    "Podríamos abordar el problema de clasificación ignorando el hecho de que $y$ tiene un valor discreto y usar nuestro antiguo algoritmo de regresión lineal para tratar de predecir $y$ dado $x$. Sin embargo, es fácil construir ejemplos en los que este método funciona muy mal. Intuitivamente, tampoco tiene sentido que $h(x)$ tome valores mayores que 1 o menores que 0 cuando sabemos que $y\\in{0, 1}$, por esto se define"
   ]
  },
  {
   "cell_type": "markdown",
   "id": "6ae437eb",
   "metadata": {},
   "source": [
    "$$\n",
    "h_{\\theta}(x)=g(\\theta^Tx)\n",
    "$$\n",
    "\n",
    "donde\n",
    "$$\n",
    "g(z)=\\frac{1}{1+e^{-z}}\n",
    "$$\n"
   ]
  },
  {
   "cell_type": "markdown",
   "id": "5691894c",
   "metadata": {},
   "source": [
    "se llama **función logística** o **función sigmoidea**. Aquí hay una trama\n",
    "mostrando g(z):"
   ]
  },
  {
   "cell_type": "markdown",
   "id": "7e3bc41b",
   "metadata": {},
   "source": [
    "<img src=\"fig5.png\" alt=\"Drawing\" style=\"width: 500px;\"/>"
   ]
  },
  {
   "cell_type": "markdown",
   "id": "ad750798",
   "metadata": {},
   "source": [
    "Observe que g(z) tiende a 1 cuando $z\\rightarrow\\infty$, y $g(z)$ tiende a 0 cuando $z\\rightarrow-\\infty$. Además, $g(z)$, y por lo tanto también $h_{\\theta}(x)$, siempre está acotado entre 0 y 1. Como antes, mantenemos la convención de $x_0 = 1$, de modo que $\\theta^Tx= \\theta_0 + \\sum_{i=1}^n θ_ix_i$\n",
    "."
   ]
  },
  {
   "cell_type": "markdown",
   "id": "bfd5bbc4",
   "metadata": {},
   "source": [
    "Una propiedad útil de la derivada de la función sigmoidea, que escribimos como $g′$:\n",
    "\\begin{eqnarray*}\n",
    "g'(z)&=&\\frac{\\delta}{\\delta z}\\frac{1}{1+e^{-z}}\\\\\n",
    "&=&\\frac{1}{(1+e^{-z})^2}(e^{-z})\\\\\n",
    "&=&\\frac{1}{1+e^{-z}}\\left(1-\\frac{1}{1+e^{-z}}\\right)\\\\\n",
    "&=&g(z)(1-g(z))\\\\\n",
    "\\end{eqnarray*}\n",
    "\n"
   ]
  },
  {
   "cell_type": "markdown",
   "id": "5be3cce8",
   "metadata": {},
   "source": [
    "Supongamos que $h_{\\theta}(x)$ es la probabilidad de que $y=1$ para una entrada $x$, es decir\n",
    "\\begin{eqnarray*}\n",
    "P(y=1\\ |\\ x;\\theta)&=&h_{\\theta}(x)\\\\\n",
    "P(y=0\\ |\\ x;\\theta)&=&1-h_{\\theta}(x)\\\\\n",
    "\\end{eqnarray*}\n"
   ]
  },
  {
   "cell_type": "markdown",
   "id": "e9b5f008",
   "metadata": {},
   "source": [
    "Note que esto se puede escribir de forma más compacta como"
   ]
  },
  {
   "cell_type": "markdown",
   "id": "7f9b70a9",
   "metadata": {},
   "source": [
    "$$\n",
    "P(y\\ |\\ x;\\theta)=h_{\\theta}(x)^y[1-h_{\\theta}(x)]^{1-y}\n",
    "$$"
   ]
  },
  {
   "cell_type": "markdown",
   "id": "1a0e2092",
   "metadata": {},
   "source": [
    "Suponiendo que los $n$ ejemplos de entrenamiento se generaron de forma independiente, podemos escribir la función de verosimilitud de los parámetros como"
   ]
  },
  {
   "cell_type": "markdown",
   "id": "1fffb8f8",
   "metadata": {},
   "source": [
    "\\begin{eqnarray}\n",
    "L(\\theta)&=&\\prod_{i=1}^n P(y_i\\ |\\ x_i;\\theta)\\\\\n",
    "&=&\\prod_{i=1}^n (h_{\\theta}(x_i))^{y_i}(1-h_{\\theta}(x_i))^{1-y_i}\\\\\n",
    "\\end{eqnarray}"
   ]
  },
  {
   "cell_type": "markdown",
   "id": "1f16eda1",
   "metadata": {},
   "source": [
    "## Función de costo"
   ]
  },
  {
   "cell_type": "markdown",
   "id": "14aa4427",
   "metadata": {},
   "source": [
    "La función de costo, corresponde con la $\\log$ verosimilitud:\n",
    "$$\n",
    "J(\\theta)=\\log L(\\theta)=\\sum_{i=1}^n y_i\\log(h_{\\theta}(x_i))+(1-y_i)\\log(1-h_{\\theta}(x_i))\n",
    "$$"
   ]
  },
  {
   "cell_type": "markdown",
   "id": "eac9d2b4",
   "metadata": {},
   "source": [
    "## Función de optimización (Gradient Descent)"
   ]
  },
  {
   "cell_type": "markdown",
   "id": "92137b3d",
   "metadata": {},
   "source": [
    "¿Cómo maximizamos la verosimilitud? Similar a nuestra derivación en el caso de la regresión lineal\n",
    "$$\n",
    "\\max_{\\theta} J(\\theta)\n",
    "$$\n",
    "usando el ascenso de gradiente o equivalentemente si multiplicamos por -1\n",
    "$$\n",
    "\\min_{\\theta} J(\\theta)=\\min_{\\theta} (-\\log L(\\theta))\n",
    "$$\n",
    "usando el descenso de gradiente, esto debido a que ahora estamos minimizando, en lugar de maximizar una función cóncava.\n",
    "\n",
    "Como en la regresión, el algoritmo iteractivo consiste en repetir el siguiente proceso hasta que $\\theta_0$ y $\\theta_1$ no varien\n",
    "$$\n",
    "\\theta_j = \\theta_j + \\alpha \\frac{\\delta}{\\delta \\theta_j} J(\\theta).\n",
    "$$\n",
    "Supongamos que $h_{\\theta}(x)=g(\\theta_0+\\theta_1x_1+\\theta_2x_2)$, entonces\n",
    "\\begin{eqnarray*}\n",
    "\\theta_0&=\\theta_0 + \\alpha \\frac{\\delta}{\\delta \\theta_0} J(\\theta)&=\\theta_0 + \\alpha(h_{\\theta}(x)-y)\\\\\n",
    "\\theta_1&=\\theta_1 + \\alpha \\frac{\\delta}{\\delta \\theta_1} J(\\theta)&=\\theta_1 + \\alpha\\ x_1(h_{\\theta}(x)-y)\\\\\n",
    "\\theta_2&=\\theta_2 + \\alpha \\frac{\\delta}{\\delta \\theta_2} J(\\theta)&=\\theta_2 + \\alpha\\ x_2(h_{\\theta}(x)-y)\\\\\n",
    "\\end{eqnarray*}"
   ]
  },
  {
   "cell_type": "markdown",
   "id": "514e5730",
   "metadata": {},
   "source": [
    "## Regularización"
   ]
  },
  {
   "cell_type": "markdown",
   "id": "ff587184",
   "metadata": {},
   "source": [
    "Las estrategias de regularización incorporan penalizaciones a la función de costo $J(\\theta)$, con el objetivo de evitar **overfitting**, reducir varianza, atenuar el efecto de la correlación entre predictores y minimizar la influencia en el modelo de los predictores menos relevantes. Por lo general, aplicando regularización se consigue modelos con mayor poder predictivo (generalización).\n",
    "\n",
    "Dado que estos métodos de regularización actúan sobre la magnitud de los coeficientes del modelo, todos deben de estár en la misma escala, por esta razón es necesario estandarizar o normalizar los predictores antes de entrenar el modelo.\n",
    "\n",
    "La función de optimización de la regresión logística de la clase binaria con término de regularización $r(\\theta)$ minimiza la siguiente función de costo:\n",
    "$$\n",
    "\\min_{\\theta} (-\\log L(\\theta))+r(\\theta)\n",
    "$$\n",
    "Actualmente la libreria `Scikit-learn` ofrecemos cuatro opciones para el termino de regularización a través del argumento de penalización `penalty` de la forma:"
   ]
  },
  {
   "cell_type": "markdown",
   "id": "63a8f0bc",
   "metadata": {},
   "source": [
    "<img src=\"rw.png\" alt=\"Drawing\" style=\"width: 230px;\"/>"
   ]
  },
  {
   "cell_type": "markdown",
   "id": "d21d4916",
   "metadata": {},
   "source": [
    "Para *ElasticNet*, $\\rho$ (corresponde a la ratio del parametro $\\mathcal{l}_1$) controla la fuerza de la regularización $\\mathcal{l}_1$ frente a la regularización $\\mathcal{l}_2$. Elastic-Net es equivalente a $\\mathcal{l}_1$ cuando $\\rho=1$ y equivalente a $\\mathcal{l}_2$ cuando $\\rho=0$."
   ]
  },
  {
   "cell_type": "markdown",
   "id": "0e4234fb",
   "metadata": {},
   "source": [
    "## Evaluación de los resultados"
   ]
  },
  {
   "cell_type": "markdown",
   "id": "90a11bd6",
   "metadata": {},
   "source": [
    "- Una vez preprocesado el conjunto de datos y entrenado el algoritmo de Machine Learning para generar el modelo, se requiere de un mecanismo para verificar si el modelo funciona adecuadamente\n",
    "\n",
    "- Existen diferentes formas de evaluar los resultados de un algoritmo:\n",
    "\n",
    "    - **Métricas numéricas**:\n",
    "        - Precisión, Exhaustividad, Exactitud ...\n",
    "    - **Representaciones gráficas**:\n",
    "        - Curva ROC, curva PR ..."
   ]
  },
  {
   "cell_type": "markdown",
   "id": "5e60ba9d",
   "metadata": {},
   "source": [
    "## Matriz de confusión"
   ]
  },
  {
   "cell_type": "markdown",
   "id": "334119b3",
   "metadata": {},
   "source": [
    "- **Verdadero Positivo (VP)**: Es un ejemplo que se ha clasificado correctamente como perteneciente a la clase \"1\" o positiva\n",
    "\n",
    "- **Verdadero Negativo (VN)**: Es un ejemplo que se ha clasificado correctamente como perteneciente a la clase \"0\" o negativa\n",
    "\n",
    "- **Falso Positivo (FP)**: Es un ejemplo que se ha clasificado correctamente como perteneciente a la clase \"1\" pero realmente pertenece a la clase \"0\"\n",
    "\n",
    "- **Falso negativo (FN)**: Es un ejemplo que se ha clasificado correctamente como perteneciente a la clase \"0\" pero realmente pertenece a la clase \"1\""
   ]
  },
  {
   "cell_type": "markdown",
   "id": "e9d49a7a",
   "metadata": {},
   "source": [
    "<img src=\"fig6.jpg\" alt=\"Drawing\" style=\"width: 400px;\"/>"
   ]
  },
  {
   "cell_type": "markdown",
   "id": "a88df28a",
   "metadata": {},
   "source": [
    "## Métricas"
   ]
  },
  {
   "cell_type": "markdown",
   "id": "353588e7",
   "metadata": {},
   "source": [
    "- **Precisión (precision)**: Se calcula dividiendo el número de verdaderos positivos por la suma del número de verdaderos positivos y el número de falsos positivos\n",
    "$$\n",
    "Precisión=\\frac{Verdaderos\\ Positivos}{Verdaderos\\ Positivos\\ +\\ Falsos\\ Positivos}\n",
    "$$\n",
    "La precisión nos indica el porcentaje de valores que se han clasificado como positivos son realmente positivos"
   ]
  },
  {
   "cell_type": "markdown",
   "id": "5255ec3e",
   "metadata": {},
   "source": [
    "- **Exhaustividad (recall)**: Se calcula dividiendo el número de verdaderos positivos por la suma del número de verdaderos positivos y el número de falsos negativos\n",
    "$$\n",
    "Recall=\\frac{Verdaderos\\ Positivos}{Verdaderos\\ Positivos\\ +\\ Falsos\\  negativos}\n",
    "$$\n",
    "La precisión nos indica el porcentaje de valores positivos que son correctamente clasificados"
   ]
  },
  {
   "cell_type": "markdown",
   "id": "639da604",
   "metadata": {},
   "source": [
    "- **Exactitud (accuracy)**: Suma del número de verdaderos positivos y el número de verdaderos negativos dividido por el número total de ejemplos"
   ]
  },
  {
   "cell_type": "markdown",
   "id": "fc7f0c46",
   "metadata": {},
   "source": [
    "- **Tasa de error (error rate)**: Se calcula restando la exactitud del valor 1, es decir la tasa de error = 1 - Exactitud"
   ]
  },
  {
   "cell_type": "markdown",
   "id": "846e1046",
   "metadata": {},
   "source": [
    "- **Ratio de Falsos Positivos**: Se calcula dividiendo el número de falsos positivos y el número de negativos reales"
   ]
  },
  {
   "cell_type": "markdown",
   "id": "3e1e7790",
   "metadata": {},
   "source": [
    "- **F1-score** se puede interpretar como un promedio ponderado de la precisión y la exactitud (recall), donde el *F1-score* alcanza su valor en 1 y el peor puntaje en 0.\n",
    "\n",
    "- La contribución relativa de la precisión y la exactitud al F1-score es la misma\n",
    "\n",
    "- La fórmula para el puntaje F1-score es:\n",
    "$$\n",
    "\\textit{F1-score}=2*\\frac{precision\\ *\\ recall}{precision\\ +\\ recall}\n",
    "$$"
   ]
  },
  {
   "cell_type": "markdown",
   "id": "1ff4990f",
   "metadata": {},
   "source": [
    "## Curva ROC (Receiver Operating Characteristic)"
   ]
  },
  {
   "cell_type": "markdown",
   "id": "6521281d",
   "metadata": {},
   "source": [
    "Las **curvas ROC** suelen representar la tasa de verdaderos positivos en el $Y$ y la tasa de falsos positivos en el eje $X$. Esto significa que la **esquina superior izquierda de la gráfica es el punto \"ideal\"**, una tasa de falsos positivos de cero y una tasa de verdaderos positivos de uno. Como consecuencia un área más grande debajo de la curva (AUC) suele ser mejor "
   ]
  },
  {
   "cell_type": "markdown",
   "id": "861e1683",
   "metadata": {},
   "source": [
    "<img src=\"fig7.png\" alt=\"Drawing\" style=\"width: 400px;\"/>"
   ]
  },
  {
   "cell_type": "markdown",
   "id": "cf8d81c5",
   "metadata": {},
   "source": [
    "## Curva PR (Precision-Recall)"
   ]
  },
  {
   "cell_type": "markdown",
   "id": "5814be68",
   "metadata": {},
   "source": [
    "**Curva PR**: Un área grande debajo de la curva representa tanto alta exactitud como alta precisión, donde la alta precisión se relaciona con una baja tasa de falsos positivos, y la alta exactitud se relaciona con una baja tasa de falsos negativos. **La esquina superior izquierda de la gráfica es el punto \"ideal\"**."
   ]
  },
  {
   "cell_type": "markdown",
   "id": "d4797d37",
   "metadata": {},
   "source": [
    "<img src=\"fig8.png\" alt=\"Drawing\" style=\"width: 400px;\"/>"
   ]
  },
  {
   "cell_type": "markdown",
   "id": "6d275b71",
   "metadata": {},
   "source": [
    "# Ejemplo"
   ]
  },
  {
   "cell_type": "markdown",
   "id": "9c5dde3b",
   "metadata": {},
   "source": [
    "El conjunto de datos contienen transacciones realizadas con tarjetas de crédito en septiembre de 2013 por titulares de tarjetas europeos.\n",
    "\n",
    "Contiene solo variables de entrada numéricas que son el resultado de una transformación PCA. Desafortunadamente, debido a problemas de confidencialidad, no podemos proporcionar las características originales ni más información general sobre los datos. Las características V1, V2, … V28 son los principales componentes obtenidos con PCA, las únicas características que no han sido transformadas con PCA son 'Tiempo' y 'Cantidad'. La característica 'Tiempo' contiene los segundos transcurridos entre cada transacción y la primera transacción en el conjunto de datos. La función 'Cantidad' es la cantidad de la transacción, esta función se puede utilizar para el aprendizaje sensible a los costos dependiente del ejemplo. Feature 'Class' es la variable de respuesta y toma valor 1 en caso de fraude y 0 en caso contrario."
   ]
  },
  {
   "cell_type": "markdown",
   "id": "cbfea4e0",
   "metadata": {},
   "source": [
    "## Importar librerias"
   ]
  },
  {
   "cell_type": "code",
   "execution_count": 1,
   "id": "dc8bccf4",
   "metadata": {},
   "outputs": [],
   "source": [
    "import numpy as np\n",
    "import pandas as pd\n",
    "import seaborn as sns\n",
    "from matplotlib import pyplot\n",
    "from pandas import read_csv, set_option\n",
    "from pandas.plotting import scatter_matrix\n",
    "from sklearn.model_selection import train_test_split\n",
    "from sklearn.linear_model import LogisticRegression\n",
    "from sklearn.preprocessing import RobustScaler\n",
    "from sklearn.compose import ColumnTransformer\n",
    "from sklearn.preprocessing import OneHotEncoder\n",
    "from sklearn.pipeline import Pipeline\n",
    "from sklearn.impute import SimpleImputer\n",
    "from sklearn.base import BaseEstimator, TransformerMixin\n",
    "#Metricas\n",
    "from sklearn.metrics import classification_report, confusion_matrix, accuracy_score\n",
    "\n",
    "# Configuración warnings\n",
    "# ==============================================================================\n",
    "import warnings\n",
    "warnings.filterwarnings('ignore')"
   ]
  },
  {
   "cell_type": "markdown",
   "id": "946ddc09",
   "metadata": {},
   "source": [
    "## Funciones auxiliares"
   ]
  },
  {
   "cell_type": "code",
   "execution_count": 2,
   "id": "77a7298b",
   "metadata": {},
   "outputs": [],
   "source": [
    "# Construcción de un pipeline para los atributos numéricos\n",
    "num_pipeline = Pipeline([\n",
    "        ('imputer', SimpleImputer(strategy=\"median\")),\n",
    "        ('rbst_scaler', RobustScaler()),\n",
    "    ])"
   ]
  },
  {
   "cell_type": "code",
   "execution_count": 3,
   "id": "c7a6f74c",
   "metadata": {},
   "outputs": [],
   "source": [
    "# Transormador para codificar únicamente las columnas categoricas y devolver un df\n",
    "class CustomOneHotEncoder(BaseEstimator, TransformerMixin):\n",
    "    def __init__(self):\n",
    "        self._oh = OneHotEncoder(sparse=False)\n",
    "        self._columns = None\n",
    "    def fit(self, X, y=None):\n",
    "        X_cat = X.select_dtypes(include=['object'])\n",
    "        self._columns = pd.get_dummies(X_cat).columns\n",
    "        self._oh.fit(X_cat)\n",
    "        return self\n",
    "    def transform(self, X, y=None):\n",
    "        X_copy = X.copy()\n",
    "        X_cat = X_copy.select_dtypes(include=['object'])\n",
    "        X_num = X_copy.select_dtypes(exclude=['object'])\n",
    "        X_cat_oh = self._oh.transform(X_cat)\n",
    "        X_cat_oh = pd.DataFrame(X_cat_oh, \n",
    "                                columns=self._columns, \n",
    "                                index=X_copy.index)\n",
    "        X_copy.drop(list(X_cat), axis=1, inplace=True)\n",
    "        return X_copy.join(X_cat_oh)"
   ]
  },
  {
   "cell_type": "code",
   "execution_count": 4,
   "id": "fd2f1379",
   "metadata": {},
   "outputs": [],
   "source": [
    "# Transofrmador que prepara todo el conjunto de datos llamando pipelines y transformadores personalizados\n",
    "class DataFramePreparer(BaseEstimator, TransformerMixin):\n",
    "    def __init__(self):\n",
    "        self._full_pipeline = None\n",
    "        self._columns = None\n",
    "    def fit(self, X, y=None):\n",
    "        num_attribs = list(X.select_dtypes(exclude=['object']))\n",
    "        cat_attribs = list(X.select_dtypes(include=['object']))\n",
    "        self._full_pipeline = ColumnTransformer([\n",
    "                (\"num\", num_pipeline, num_attribs),\n",
    "                (\"cat\", CustomOneHotEncoder(), cat_attribs),\n",
    "        ])\n",
    "        self._full_pipeline.fit(X)\n",
    "        self._columns = pd.get_dummies(X).columns\n",
    "        return self\n",
    "    def transform(self, X, y=None):\n",
    "        X_copy = X.copy()\n",
    "        X_prep = self._full_pipeline.transform(X_copy)\n",
    "        return pd.DataFrame(X_prep, \n",
    "                            columns=self._columns, \n",
    "                            index=X_copy.index)"
   ]
  },
  {
   "cell_type": "markdown",
   "id": "6971047c",
   "metadata": {},
   "source": [
    "## Carga de datos"
   ]
  },
  {
   "cell_type": "code",
   "execution_count": 5,
   "id": "06897855",
   "metadata": {},
   "outputs": [],
   "source": [
    "dataset = pd.read_csv(\"creditcard.csv\")"
   ]
  },
  {
   "cell_type": "markdown",
   "id": "464dca6b",
   "metadata": {},
   "source": [
    "### Análisis de datos exploratorios\n",
    "\n",
    "Las siguientes secciones analizan algunas inspecciones de datos de alto nivel.\n",
    "\n",
    "**Estadísticas descriptivas**\n",
    "\n",
    "Lo primero que debemos hacer es recopilar una idea básica de nuestros datos. Recuerde, a excepción de la transacción y el monto, no conocemos los nombres de otras columnas. Lo único que sabemos es que los valores de esas columnas han sido escalados. Veamos la forma y las columnas de los datos:"
   ]
  },
  {
   "cell_type": "code",
   "execution_count": 6,
   "id": "20afad98",
   "metadata": {},
   "outputs": [
    {
     "data": {
      "text/plain": [
       "(284807, 31)"
      ]
     },
     "execution_count": 6,
     "metadata": {},
     "output_type": "execute_result"
    }
   ],
   "source": [
    "dataset.shape"
   ]
  },
  {
   "cell_type": "code",
   "execution_count": 7,
   "id": "16879d04",
   "metadata": {},
   "outputs": [
    {
     "data": {
      "text/html": [
       "<div>\n",
       "<style scoped>\n",
       "    .dataframe tbody tr th:only-of-type {\n",
       "        vertical-align: middle;\n",
       "    }\n",
       "\n",
       "    .dataframe tbody tr th {\n",
       "        vertical-align: top;\n",
       "    }\n",
       "\n",
       "    .dataframe thead th {\n",
       "        text-align: right;\n",
       "    }\n",
       "</style>\n",
       "<table border=\"1\" class=\"dataframe\">\n",
       "  <thead>\n",
       "    <tr style=\"text-align: right;\">\n",
       "      <th></th>\n",
       "      <th>Time</th>\n",
       "      <th>V1</th>\n",
       "      <th>V2</th>\n",
       "      <th>V3</th>\n",
       "      <th>V4</th>\n",
       "      <th>V5</th>\n",
       "      <th>V6</th>\n",
       "      <th>V7</th>\n",
       "      <th>V8</th>\n",
       "      <th>V9</th>\n",
       "      <th>...</th>\n",
       "      <th>V21</th>\n",
       "      <th>V22</th>\n",
       "      <th>V23</th>\n",
       "      <th>V24</th>\n",
       "      <th>V25</th>\n",
       "      <th>V26</th>\n",
       "      <th>V27</th>\n",
       "      <th>V28</th>\n",
       "      <th>Amount</th>\n",
       "      <th>Class</th>\n",
       "    </tr>\n",
       "  </thead>\n",
       "  <tbody>\n",
       "    <tr>\n",
       "      <th>0</th>\n",
       "      <td>0.0</td>\n",
       "      <td>-1.359807</td>\n",
       "      <td>-0.072781</td>\n",
       "      <td>2.536347</td>\n",
       "      <td>1.378155</td>\n",
       "      <td>-0.338321</td>\n",
       "      <td>0.462388</td>\n",
       "      <td>0.239599</td>\n",
       "      <td>0.098698</td>\n",
       "      <td>0.363787</td>\n",
       "      <td>...</td>\n",
       "      <td>-0.018307</td>\n",
       "      <td>0.277838</td>\n",
       "      <td>-0.110474</td>\n",
       "      <td>0.066928</td>\n",
       "      <td>0.128539</td>\n",
       "      <td>-0.189115</td>\n",
       "      <td>0.133558</td>\n",
       "      <td>-0.021053</td>\n",
       "      <td>149.62</td>\n",
       "      <td>0</td>\n",
       "    </tr>\n",
       "    <tr>\n",
       "      <th>1</th>\n",
       "      <td>0.0</td>\n",
       "      <td>1.191857</td>\n",
       "      <td>0.266151</td>\n",
       "      <td>0.166480</td>\n",
       "      <td>0.448154</td>\n",
       "      <td>0.060018</td>\n",
       "      <td>-0.082361</td>\n",
       "      <td>-0.078803</td>\n",
       "      <td>0.085102</td>\n",
       "      <td>-0.255425</td>\n",
       "      <td>...</td>\n",
       "      <td>-0.225775</td>\n",
       "      <td>-0.638672</td>\n",
       "      <td>0.101288</td>\n",
       "      <td>-0.339846</td>\n",
       "      <td>0.167170</td>\n",
       "      <td>0.125895</td>\n",
       "      <td>-0.008983</td>\n",
       "      <td>0.014724</td>\n",
       "      <td>2.69</td>\n",
       "      <td>0</td>\n",
       "    </tr>\n",
       "    <tr>\n",
       "      <th>2</th>\n",
       "      <td>1.0</td>\n",
       "      <td>-1.358354</td>\n",
       "      <td>-1.340163</td>\n",
       "      <td>1.773209</td>\n",
       "      <td>0.379780</td>\n",
       "      <td>-0.503198</td>\n",
       "      <td>1.800499</td>\n",
       "      <td>0.791461</td>\n",
       "      <td>0.247676</td>\n",
       "      <td>-1.514654</td>\n",
       "      <td>...</td>\n",
       "      <td>0.247998</td>\n",
       "      <td>0.771679</td>\n",
       "      <td>0.909412</td>\n",
       "      <td>-0.689281</td>\n",
       "      <td>-0.327642</td>\n",
       "      <td>-0.139097</td>\n",
       "      <td>-0.055353</td>\n",
       "      <td>-0.059752</td>\n",
       "      <td>378.66</td>\n",
       "      <td>0</td>\n",
       "    </tr>\n",
       "    <tr>\n",
       "      <th>3</th>\n",
       "      <td>1.0</td>\n",
       "      <td>-0.966272</td>\n",
       "      <td>-0.185226</td>\n",
       "      <td>1.792993</td>\n",
       "      <td>-0.863291</td>\n",
       "      <td>-0.010309</td>\n",
       "      <td>1.247203</td>\n",
       "      <td>0.237609</td>\n",
       "      <td>0.377436</td>\n",
       "      <td>-1.387024</td>\n",
       "      <td>...</td>\n",
       "      <td>-0.108300</td>\n",
       "      <td>0.005274</td>\n",
       "      <td>-0.190321</td>\n",
       "      <td>-1.175575</td>\n",
       "      <td>0.647376</td>\n",
       "      <td>-0.221929</td>\n",
       "      <td>0.062723</td>\n",
       "      <td>0.061458</td>\n",
       "      <td>123.50</td>\n",
       "      <td>0</td>\n",
       "    </tr>\n",
       "    <tr>\n",
       "      <th>4</th>\n",
       "      <td>2.0</td>\n",
       "      <td>-1.158233</td>\n",
       "      <td>0.877737</td>\n",
       "      <td>1.548718</td>\n",
       "      <td>0.403034</td>\n",
       "      <td>-0.407193</td>\n",
       "      <td>0.095921</td>\n",
       "      <td>0.592941</td>\n",
       "      <td>-0.270533</td>\n",
       "      <td>0.817739</td>\n",
       "      <td>...</td>\n",
       "      <td>-0.009431</td>\n",
       "      <td>0.798278</td>\n",
       "      <td>-0.137458</td>\n",
       "      <td>0.141267</td>\n",
       "      <td>-0.206010</td>\n",
       "      <td>0.502292</td>\n",
       "      <td>0.219422</td>\n",
       "      <td>0.215153</td>\n",
       "      <td>69.99</td>\n",
       "      <td>0</td>\n",
       "    </tr>\n",
       "  </tbody>\n",
       "</table>\n",
       "<p>5 rows × 31 columns</p>\n",
       "</div>"
      ],
      "text/plain": [
       "   Time        V1        V2        V3        V4        V5        V6        V7  \\\n",
       "0   0.0 -1.359807 -0.072781  2.536347  1.378155 -0.338321  0.462388  0.239599   \n",
       "1   0.0  1.191857  0.266151  0.166480  0.448154  0.060018 -0.082361 -0.078803   \n",
       "2   1.0 -1.358354 -1.340163  1.773209  0.379780 -0.503198  1.800499  0.791461   \n",
       "3   1.0 -0.966272 -0.185226  1.792993 -0.863291 -0.010309  1.247203  0.237609   \n",
       "4   2.0 -1.158233  0.877737  1.548718  0.403034 -0.407193  0.095921  0.592941   \n",
       "\n",
       "         V8        V9  ...       V21       V22       V23       V24       V25  \\\n",
       "0  0.098698  0.363787  ... -0.018307  0.277838 -0.110474  0.066928  0.128539   \n",
       "1  0.085102 -0.255425  ... -0.225775 -0.638672  0.101288 -0.339846  0.167170   \n",
       "2  0.247676 -1.514654  ...  0.247998  0.771679  0.909412 -0.689281 -0.327642   \n",
       "3  0.377436 -1.387024  ... -0.108300  0.005274 -0.190321 -1.175575  0.647376   \n",
       "4 -0.270533  0.817739  ... -0.009431  0.798278 -0.137458  0.141267 -0.206010   \n",
       "\n",
       "        V26       V27       V28  Amount  Class  \n",
       "0 -0.189115  0.133558 -0.021053  149.62      0  \n",
       "1  0.125895 -0.008983  0.014724    2.69      0  \n",
       "2 -0.139097 -0.055353 -0.059752  378.66      0  \n",
       "3 -0.221929  0.062723  0.061458  123.50      0  \n",
       "4  0.502292  0.219422  0.215153   69.99      0  \n",
       "\n",
       "[5 rows x 31 columns]"
      ]
     },
     "execution_count": 7,
     "metadata": {},
     "output_type": "execute_result"
    }
   ],
   "source": [
    "dataset.head(5)"
   ]
  },
  {
   "cell_type": "markdown",
   "id": "f1b2e0d0",
   "metadata": {},
   "source": [
    "Como se muestra, los nombres de las variables son anodinos (V1, V2, etc.). Además, el tipo de datos de todo el conjunto de datos es flotante, excepto Clase, que es de tipo entero.\n",
    "\n",
    "¿Cuántos son fraude y cuántos no son fraude? Comprobemos:"
   ]
  },
  {
   "cell_type": "code",
   "execution_count": 8,
   "id": "b5d2ac62",
   "metadata": {},
   "outputs": [
    {
     "name": "stdout",
     "output_type": "stream",
     "text": [
      "No Fraude    284315\n",
      "Fraude          492\n",
      "Name: Class, dtype: int64\n"
     ]
    }
   ],
   "source": [
    "class_names = {0:'No Fraude', 1:'Fraude'}\n",
    "print(dataset.Class.value_counts().rename(index = class_names))"
   ]
  },
  {
   "cell_type": "markdown",
   "id": "1ed6c887",
   "metadata": {},
   "source": [
    "Este conjunto de datos presenta transacciones que ocurrieron en dos días, donde tenemos 492 fraudes de 284,807 transacciones. El conjunto de datos está muy desequilibrado, la clase positiva (fraudes) representa el 0,172 % de todas las transacciones.\n",
    "\n",
    "La mayoría de las transacciones no son fraudulentas. Si utilizamos este conjunto de datos como base para nuestro modelado, la mayoría de los modelos no pondrán suficiente énfasis en las señales de fraude; los puntos de datos no fraudulentos ahogarán cualquier peso que proporcionen las señales de fraude. Tal como están las cosas, podemos encontrar dificultades para modelar la predicción del fraude, y este desequilibrio lleva a los modelos a asumir simplemente que todas las transacciones no son fraude. Este sería un resultado inaceptable. Exploraremos algunas formas de abordar este tema en las secciones siguientes."
   ]
  },
  {
   "cell_type": "code",
   "execution_count": 9,
   "id": "f6929fa8",
   "metadata": {},
   "outputs": [
    {
     "name": "stdout",
     "output_type": "stream",
     "text": [
      "<class 'pandas.core.frame.DataFrame'>\n",
      "RangeIndex: 284807 entries, 0 to 284806\n",
      "Data columns (total 31 columns):\n",
      " #   Column  Non-Null Count   Dtype  \n",
      "---  ------  --------------   -----  \n",
      " 0   Time    284807 non-null  float64\n",
      " 1   V1      284807 non-null  float64\n",
      " 2   V2      284807 non-null  float64\n",
      " 3   V3      284807 non-null  float64\n",
      " 4   V4      284807 non-null  float64\n",
      " 5   V5      284807 non-null  float64\n",
      " 6   V6      284807 non-null  float64\n",
      " 7   V7      284807 non-null  float64\n",
      " 8   V8      284807 non-null  float64\n",
      " 9   V9      284807 non-null  float64\n",
      " 10  V10     284807 non-null  float64\n",
      " 11  V11     284807 non-null  float64\n",
      " 12  V12     284807 non-null  float64\n",
      " 13  V13     284807 non-null  float64\n",
      " 14  V14     284807 non-null  float64\n",
      " 15  V15     284807 non-null  float64\n",
      " 16  V16     284807 non-null  float64\n",
      " 17  V17     284807 non-null  float64\n",
      " 18  V18     284807 non-null  float64\n",
      " 19  V19     284807 non-null  float64\n",
      " 20  V20     284807 non-null  float64\n",
      " 21  V21     284807 non-null  float64\n",
      " 22  V22     284807 non-null  float64\n",
      " 23  V23     284807 non-null  float64\n",
      " 24  V24     284807 non-null  float64\n",
      " 25  V25     284807 non-null  float64\n",
      " 26  V26     284807 non-null  float64\n",
      " 27  V27     284807 non-null  float64\n",
      " 28  V28     284807 non-null  float64\n",
      " 29  Amount  284807 non-null  float64\n",
      " 30  Class   284807 non-null  int64  \n",
      "dtypes: float64(30), int64(1)\n",
      "memory usage: 67.4 MB\n"
     ]
    }
   ],
   "source": [
    "# Visualizamos los tipos de cada uno de los atributos\n",
    "dataset.info()"
   ]
  },
  {
   "cell_type": "code",
   "execution_count": 10,
   "id": "c2a010f1",
   "metadata": {},
   "outputs": [
    {
     "data": {
      "text/plain": [
       "Time      False\n",
       "V1        False\n",
       "V2        False\n",
       "V3        False\n",
       "V4        False\n",
       "V5        False\n",
       "V6        False\n",
       "V7        False\n",
       "V8        False\n",
       "V9        False\n",
       "V10       False\n",
       "V11       False\n",
       "V12       False\n",
       "V13       False\n",
       "V14       False\n",
       "V15       False\n",
       "V16       False\n",
       "V17       False\n",
       "V18       False\n",
       "V19       False\n",
       "V20       False\n",
       "V21       False\n",
       "V22       False\n",
       "V23       False\n",
       "V24       False\n",
       "V25       False\n",
       "V26       False\n",
       "V27       False\n",
       "V28       False\n",
       "Amount    False\n",
       "Class     False\n",
       "dtype: bool"
      ]
     },
     "execution_count": 10,
     "metadata": {},
     "output_type": "execute_result"
    }
   ],
   "source": [
    "# Comprobamos si alguna columna tiene valores nulos\n",
    "dataset.isna().any()"
   ]
  },
  {
   "cell_type": "code",
   "execution_count": 11,
   "id": "d474dcb2",
   "metadata": {},
   "outputs": [
    {
     "data": {
      "text/html": [
       "<div>\n",
       "<style scoped>\n",
       "    .dataframe tbody tr th:only-of-type {\n",
       "        vertical-align: middle;\n",
       "    }\n",
       "\n",
       "    .dataframe tbody tr th {\n",
       "        vertical-align: top;\n",
       "    }\n",
       "\n",
       "    .dataframe thead th {\n",
       "        text-align: right;\n",
       "    }\n",
       "</style>\n",
       "<table border=\"1\" class=\"dataframe\">\n",
       "  <thead>\n",
       "    <tr style=\"text-align: right;\">\n",
       "      <th></th>\n",
       "      <th>Time</th>\n",
       "      <th>V1</th>\n",
       "      <th>V2</th>\n",
       "      <th>V3</th>\n",
       "      <th>V4</th>\n",
       "      <th>V5</th>\n",
       "      <th>V6</th>\n",
       "      <th>V7</th>\n",
       "      <th>V8</th>\n",
       "      <th>V9</th>\n",
       "      <th>...</th>\n",
       "      <th>V21</th>\n",
       "      <th>V22</th>\n",
       "      <th>V23</th>\n",
       "      <th>V24</th>\n",
       "      <th>V25</th>\n",
       "      <th>V26</th>\n",
       "      <th>V27</th>\n",
       "      <th>V28</th>\n",
       "      <th>Amount</th>\n",
       "      <th>Class</th>\n",
       "    </tr>\n",
       "  </thead>\n",
       "  <tbody>\n",
       "    <tr>\n",
       "      <th>count</th>\n",
       "      <td>284807.000000</td>\n",
       "      <td>2.848070e+05</td>\n",
       "      <td>2.848070e+05</td>\n",
       "      <td>2.848070e+05</td>\n",
       "      <td>2.848070e+05</td>\n",
       "      <td>2.848070e+05</td>\n",
       "      <td>2.848070e+05</td>\n",
       "      <td>2.848070e+05</td>\n",
       "      <td>2.848070e+05</td>\n",
       "      <td>2.848070e+05</td>\n",
       "      <td>...</td>\n",
       "      <td>2.848070e+05</td>\n",
       "      <td>2.848070e+05</td>\n",
       "      <td>2.848070e+05</td>\n",
       "      <td>2.848070e+05</td>\n",
       "      <td>2.848070e+05</td>\n",
       "      <td>2.848070e+05</td>\n",
       "      <td>2.848070e+05</td>\n",
       "      <td>2.848070e+05</td>\n",
       "      <td>284807.000000</td>\n",
       "      <td>284807.000000</td>\n",
       "    </tr>\n",
       "    <tr>\n",
       "      <th>mean</th>\n",
       "      <td>94813.859575</td>\n",
       "      <td>1.168375e-15</td>\n",
       "      <td>3.416908e-16</td>\n",
       "      <td>-1.379537e-15</td>\n",
       "      <td>2.074095e-15</td>\n",
       "      <td>9.604066e-16</td>\n",
       "      <td>1.487313e-15</td>\n",
       "      <td>-5.556467e-16</td>\n",
       "      <td>1.213481e-16</td>\n",
       "      <td>-2.406331e-15</td>\n",
       "      <td>...</td>\n",
       "      <td>1.654067e-16</td>\n",
       "      <td>-3.568593e-16</td>\n",
       "      <td>2.578648e-16</td>\n",
       "      <td>4.473266e-15</td>\n",
       "      <td>5.340915e-16</td>\n",
       "      <td>1.683437e-15</td>\n",
       "      <td>-3.660091e-16</td>\n",
       "      <td>-1.227390e-16</td>\n",
       "      <td>88.349619</td>\n",
       "      <td>0.001727</td>\n",
       "    </tr>\n",
       "    <tr>\n",
       "      <th>std</th>\n",
       "      <td>47488.145955</td>\n",
       "      <td>1.958696e+00</td>\n",
       "      <td>1.651309e+00</td>\n",
       "      <td>1.516255e+00</td>\n",
       "      <td>1.415869e+00</td>\n",
       "      <td>1.380247e+00</td>\n",
       "      <td>1.332271e+00</td>\n",
       "      <td>1.237094e+00</td>\n",
       "      <td>1.194353e+00</td>\n",
       "      <td>1.098632e+00</td>\n",
       "      <td>...</td>\n",
       "      <td>7.345240e-01</td>\n",
       "      <td>7.257016e-01</td>\n",
       "      <td>6.244603e-01</td>\n",
       "      <td>6.056471e-01</td>\n",
       "      <td>5.212781e-01</td>\n",
       "      <td>4.822270e-01</td>\n",
       "      <td>4.036325e-01</td>\n",
       "      <td>3.300833e-01</td>\n",
       "      <td>250.120109</td>\n",
       "      <td>0.041527</td>\n",
       "    </tr>\n",
       "    <tr>\n",
       "      <th>min</th>\n",
       "      <td>0.000000</td>\n",
       "      <td>-5.640751e+01</td>\n",
       "      <td>-7.271573e+01</td>\n",
       "      <td>-4.832559e+01</td>\n",
       "      <td>-5.683171e+00</td>\n",
       "      <td>-1.137433e+02</td>\n",
       "      <td>-2.616051e+01</td>\n",
       "      <td>-4.355724e+01</td>\n",
       "      <td>-7.321672e+01</td>\n",
       "      <td>-1.343407e+01</td>\n",
       "      <td>...</td>\n",
       "      <td>-3.483038e+01</td>\n",
       "      <td>-1.093314e+01</td>\n",
       "      <td>-4.480774e+01</td>\n",
       "      <td>-2.836627e+00</td>\n",
       "      <td>-1.029540e+01</td>\n",
       "      <td>-2.604551e+00</td>\n",
       "      <td>-2.256568e+01</td>\n",
       "      <td>-1.543008e+01</td>\n",
       "      <td>0.000000</td>\n",
       "      <td>0.000000</td>\n",
       "    </tr>\n",
       "    <tr>\n",
       "      <th>25%</th>\n",
       "      <td>54201.500000</td>\n",
       "      <td>-9.203734e-01</td>\n",
       "      <td>-5.985499e-01</td>\n",
       "      <td>-8.903648e-01</td>\n",
       "      <td>-8.486401e-01</td>\n",
       "      <td>-6.915971e-01</td>\n",
       "      <td>-7.682956e-01</td>\n",
       "      <td>-5.540759e-01</td>\n",
       "      <td>-2.086297e-01</td>\n",
       "      <td>-6.430976e-01</td>\n",
       "      <td>...</td>\n",
       "      <td>-2.283949e-01</td>\n",
       "      <td>-5.423504e-01</td>\n",
       "      <td>-1.618463e-01</td>\n",
       "      <td>-3.545861e-01</td>\n",
       "      <td>-3.171451e-01</td>\n",
       "      <td>-3.269839e-01</td>\n",
       "      <td>-7.083953e-02</td>\n",
       "      <td>-5.295979e-02</td>\n",
       "      <td>5.600000</td>\n",
       "      <td>0.000000</td>\n",
       "    </tr>\n",
       "    <tr>\n",
       "      <th>50%</th>\n",
       "      <td>84692.000000</td>\n",
       "      <td>1.810880e-02</td>\n",
       "      <td>6.548556e-02</td>\n",
       "      <td>1.798463e-01</td>\n",
       "      <td>-1.984653e-02</td>\n",
       "      <td>-5.433583e-02</td>\n",
       "      <td>-2.741871e-01</td>\n",
       "      <td>4.010308e-02</td>\n",
       "      <td>2.235804e-02</td>\n",
       "      <td>-5.142873e-02</td>\n",
       "      <td>...</td>\n",
       "      <td>-2.945017e-02</td>\n",
       "      <td>6.781943e-03</td>\n",
       "      <td>-1.119293e-02</td>\n",
       "      <td>4.097606e-02</td>\n",
       "      <td>1.659350e-02</td>\n",
       "      <td>-5.213911e-02</td>\n",
       "      <td>1.342146e-03</td>\n",
       "      <td>1.124383e-02</td>\n",
       "      <td>22.000000</td>\n",
       "      <td>0.000000</td>\n",
       "    </tr>\n",
       "    <tr>\n",
       "      <th>75%</th>\n",
       "      <td>139320.500000</td>\n",
       "      <td>1.315642e+00</td>\n",
       "      <td>8.037239e-01</td>\n",
       "      <td>1.027196e+00</td>\n",
       "      <td>7.433413e-01</td>\n",
       "      <td>6.119264e-01</td>\n",
       "      <td>3.985649e-01</td>\n",
       "      <td>5.704361e-01</td>\n",
       "      <td>3.273459e-01</td>\n",
       "      <td>5.971390e-01</td>\n",
       "      <td>...</td>\n",
       "      <td>1.863772e-01</td>\n",
       "      <td>5.285536e-01</td>\n",
       "      <td>1.476421e-01</td>\n",
       "      <td>4.395266e-01</td>\n",
       "      <td>3.507156e-01</td>\n",
       "      <td>2.409522e-01</td>\n",
       "      <td>9.104512e-02</td>\n",
       "      <td>7.827995e-02</td>\n",
       "      <td>77.165000</td>\n",
       "      <td>0.000000</td>\n",
       "    </tr>\n",
       "    <tr>\n",
       "      <th>max</th>\n",
       "      <td>172792.000000</td>\n",
       "      <td>2.454930e+00</td>\n",
       "      <td>2.205773e+01</td>\n",
       "      <td>9.382558e+00</td>\n",
       "      <td>1.687534e+01</td>\n",
       "      <td>3.480167e+01</td>\n",
       "      <td>7.330163e+01</td>\n",
       "      <td>1.205895e+02</td>\n",
       "      <td>2.000721e+01</td>\n",
       "      <td>1.559499e+01</td>\n",
       "      <td>...</td>\n",
       "      <td>2.720284e+01</td>\n",
       "      <td>1.050309e+01</td>\n",
       "      <td>2.252841e+01</td>\n",
       "      <td>4.584549e+00</td>\n",
       "      <td>7.519589e+00</td>\n",
       "      <td>3.517346e+00</td>\n",
       "      <td>3.161220e+01</td>\n",
       "      <td>3.384781e+01</td>\n",
       "      <td>25691.160000</td>\n",
       "      <td>1.000000</td>\n",
       "    </tr>\n",
       "  </tbody>\n",
       "</table>\n",
       "<p>8 rows × 31 columns</p>\n",
       "</div>"
      ],
      "text/plain": [
       "                Time            V1            V2            V3            V4  \\\n",
       "count  284807.000000  2.848070e+05  2.848070e+05  2.848070e+05  2.848070e+05   \n",
       "mean    94813.859575  1.168375e-15  3.416908e-16 -1.379537e-15  2.074095e-15   \n",
       "std     47488.145955  1.958696e+00  1.651309e+00  1.516255e+00  1.415869e+00   \n",
       "min         0.000000 -5.640751e+01 -7.271573e+01 -4.832559e+01 -5.683171e+00   \n",
       "25%     54201.500000 -9.203734e-01 -5.985499e-01 -8.903648e-01 -8.486401e-01   \n",
       "50%     84692.000000  1.810880e-02  6.548556e-02  1.798463e-01 -1.984653e-02   \n",
       "75%    139320.500000  1.315642e+00  8.037239e-01  1.027196e+00  7.433413e-01   \n",
       "max    172792.000000  2.454930e+00  2.205773e+01  9.382558e+00  1.687534e+01   \n",
       "\n",
       "                 V5            V6            V7            V8            V9  \\\n",
       "count  2.848070e+05  2.848070e+05  2.848070e+05  2.848070e+05  2.848070e+05   \n",
       "mean   9.604066e-16  1.487313e-15 -5.556467e-16  1.213481e-16 -2.406331e-15   \n",
       "std    1.380247e+00  1.332271e+00  1.237094e+00  1.194353e+00  1.098632e+00   \n",
       "min   -1.137433e+02 -2.616051e+01 -4.355724e+01 -7.321672e+01 -1.343407e+01   \n",
       "25%   -6.915971e-01 -7.682956e-01 -5.540759e-01 -2.086297e-01 -6.430976e-01   \n",
       "50%   -5.433583e-02 -2.741871e-01  4.010308e-02  2.235804e-02 -5.142873e-02   \n",
       "75%    6.119264e-01  3.985649e-01  5.704361e-01  3.273459e-01  5.971390e-01   \n",
       "max    3.480167e+01  7.330163e+01  1.205895e+02  2.000721e+01  1.559499e+01   \n",
       "\n",
       "       ...           V21           V22           V23           V24  \\\n",
       "count  ...  2.848070e+05  2.848070e+05  2.848070e+05  2.848070e+05   \n",
       "mean   ...  1.654067e-16 -3.568593e-16  2.578648e-16  4.473266e-15   \n",
       "std    ...  7.345240e-01  7.257016e-01  6.244603e-01  6.056471e-01   \n",
       "min    ... -3.483038e+01 -1.093314e+01 -4.480774e+01 -2.836627e+00   \n",
       "25%    ... -2.283949e-01 -5.423504e-01 -1.618463e-01 -3.545861e-01   \n",
       "50%    ... -2.945017e-02  6.781943e-03 -1.119293e-02  4.097606e-02   \n",
       "75%    ...  1.863772e-01  5.285536e-01  1.476421e-01  4.395266e-01   \n",
       "max    ...  2.720284e+01  1.050309e+01  2.252841e+01  4.584549e+00   \n",
       "\n",
       "                V25           V26           V27           V28         Amount  \\\n",
       "count  2.848070e+05  2.848070e+05  2.848070e+05  2.848070e+05  284807.000000   \n",
       "mean   5.340915e-16  1.683437e-15 -3.660091e-16 -1.227390e-16      88.349619   \n",
       "std    5.212781e-01  4.822270e-01  4.036325e-01  3.300833e-01     250.120109   \n",
       "min   -1.029540e+01 -2.604551e+00 -2.256568e+01 -1.543008e+01       0.000000   \n",
       "25%   -3.171451e-01 -3.269839e-01 -7.083953e-02 -5.295979e-02       5.600000   \n",
       "50%    1.659350e-02 -5.213911e-02  1.342146e-03  1.124383e-02      22.000000   \n",
       "75%    3.507156e-01  2.409522e-01  9.104512e-02  7.827995e-02      77.165000   \n",
       "max    7.519589e+00  3.517346e+00  3.161220e+01  3.384781e+01   25691.160000   \n",
       "\n",
       "               Class  \n",
       "count  284807.000000  \n",
       "mean        0.001727  \n",
       "std         0.041527  \n",
       "min         0.000000  \n",
       "25%         0.000000  \n",
       "50%         0.000000  \n",
       "75%         0.000000  \n",
       "max         1.000000  \n",
       "\n",
       "[8 rows x 31 columns]"
      ]
     },
     "execution_count": 11,
     "metadata": {},
     "output_type": "execute_result"
    }
   ],
   "source": [
    "dataset.describe()"
   ]
  },
  {
   "cell_type": "markdown",
   "id": "e05070f0",
   "metadata": {},
   "source": [
    "## División del conjunto de datos\n",
    "\n",
    "El conjunto de prueba es una muestra de los datos que retenemos de nuestro análisis y modelado. Lo usamos al final de nuestro proyecto para confirmar la precisión de nuestro modelo final. Es la prueba final que nos da confianza en nuestras estimaciones de precisión de datos invisibles. Usaremos el 80% del conjunto de datos para el entrenamiento del modelo y el 20% para las pruebas:\n",
    "\n",
    "Dado que el dataframe es desbalanceado, utilizamos el parámetro de estratificación hace una división para que la proporción de valores en la muestra producida sea la misma que la proporción de valores proporcionados por el parámetro **stratify** de la función **train_test_split**. "
   ]
  },
  {
   "cell_type": "code",
   "execution_count": 12,
   "id": "462cb6ce",
   "metadata": {},
   "outputs": [],
   "source": [
    "Y= dataset[\"Class\"]\n",
    "X = dataset.loc[:, dataset.columns != 'Class']\n",
    "validation_size = 0.2\n",
    "seed = 7\n",
    "X_train, X_test, Y_train, Y_test =train_test_split(X, Y, test_size=validation_size, \n",
    "                                                   random_state=seed, \n",
    "                                                   stratify=dataset[\"Class\"])"
   ]
  },
  {
   "cell_type": "code",
   "execution_count": 13,
   "id": "8413c978",
   "metadata": {},
   "outputs": [
    {
     "data": {
      "text/plain": [
       "0    227451\n",
       "1       394\n",
       "Name: Class, dtype: int64"
      ]
     },
     "execution_count": 13,
     "metadata": {},
     "output_type": "execute_result"
    }
   ],
   "source": [
    "Y_train.value_counts()"
   ]
  },
  {
   "cell_type": "markdown",
   "id": "2425e8a6",
   "metadata": {},
   "source": [
    "## Preparación del conjunto de datos¶"
   ]
  },
  {
   "cell_type": "code",
   "execution_count": 14,
   "id": "a5ff31e5",
   "metadata": {},
   "outputs": [],
   "source": [
    "# Instanciamos nuestro transformador personalizado\n",
    "data_preparer = DataFramePreparer()"
   ]
  },
  {
   "cell_type": "code",
   "execution_count": 15,
   "id": "0b7e442d",
   "metadata": {},
   "outputs": [
    {
     "data": {
      "text/html": [
       "<style>#sk-container-id-1 {color: black;background-color: white;}#sk-container-id-1 pre{padding: 0;}#sk-container-id-1 div.sk-toggleable {background-color: white;}#sk-container-id-1 label.sk-toggleable__label {cursor: pointer;display: block;width: 100%;margin-bottom: 0;padding: 0.3em;box-sizing: border-box;text-align: center;}#sk-container-id-1 label.sk-toggleable__label-arrow:before {content: \"▸\";float: left;margin-right: 0.25em;color: #696969;}#sk-container-id-1 label.sk-toggleable__label-arrow:hover:before {color: black;}#sk-container-id-1 div.sk-estimator:hover label.sk-toggleable__label-arrow:before {color: black;}#sk-container-id-1 div.sk-toggleable__content {max-height: 0;max-width: 0;overflow: hidden;text-align: left;background-color: #f0f8ff;}#sk-container-id-1 div.sk-toggleable__content pre {margin: 0.2em;color: black;border-radius: 0.25em;background-color: #f0f8ff;}#sk-container-id-1 input.sk-toggleable__control:checked~div.sk-toggleable__content {max-height: 200px;max-width: 100%;overflow: auto;}#sk-container-id-1 input.sk-toggleable__control:checked~label.sk-toggleable__label-arrow:before {content: \"▾\";}#sk-container-id-1 div.sk-estimator input.sk-toggleable__control:checked~label.sk-toggleable__label {background-color: #d4ebff;}#sk-container-id-1 div.sk-label input.sk-toggleable__control:checked~label.sk-toggleable__label {background-color: #d4ebff;}#sk-container-id-1 input.sk-hidden--visually {border: 0;clip: rect(1px 1px 1px 1px);clip: rect(1px, 1px, 1px, 1px);height: 1px;margin: -1px;overflow: hidden;padding: 0;position: absolute;width: 1px;}#sk-container-id-1 div.sk-estimator {font-family: monospace;background-color: #f0f8ff;border: 1px dotted black;border-radius: 0.25em;box-sizing: border-box;margin-bottom: 0.5em;}#sk-container-id-1 div.sk-estimator:hover {background-color: #d4ebff;}#sk-container-id-1 div.sk-parallel-item::after {content: \"\";width: 100%;border-bottom: 1px solid gray;flex-grow: 1;}#sk-container-id-1 div.sk-label:hover label.sk-toggleable__label {background-color: #d4ebff;}#sk-container-id-1 div.sk-serial::before {content: \"\";position: absolute;border-left: 1px solid gray;box-sizing: border-box;top: 0;bottom: 0;left: 50%;z-index: 0;}#sk-container-id-1 div.sk-serial {display: flex;flex-direction: column;align-items: center;background-color: white;padding-right: 0.2em;padding-left: 0.2em;position: relative;}#sk-container-id-1 div.sk-item {position: relative;z-index: 1;}#sk-container-id-1 div.sk-parallel {display: flex;align-items: stretch;justify-content: center;background-color: white;position: relative;}#sk-container-id-1 div.sk-item::before, #sk-container-id-1 div.sk-parallel-item::before {content: \"\";position: absolute;border-left: 1px solid gray;box-sizing: border-box;top: 0;bottom: 0;left: 50%;z-index: -1;}#sk-container-id-1 div.sk-parallel-item {display: flex;flex-direction: column;z-index: 1;position: relative;background-color: white;}#sk-container-id-1 div.sk-parallel-item:first-child::after {align-self: flex-end;width: 50%;}#sk-container-id-1 div.sk-parallel-item:last-child::after {align-self: flex-start;width: 50%;}#sk-container-id-1 div.sk-parallel-item:only-child::after {width: 0;}#sk-container-id-1 div.sk-dashed-wrapped {border: 1px dashed gray;margin: 0 0.4em 0.5em 0.4em;box-sizing: border-box;padding-bottom: 0.4em;background-color: white;}#sk-container-id-1 div.sk-label label {font-family: monospace;font-weight: bold;display: inline-block;line-height: 1.2em;}#sk-container-id-1 div.sk-label-container {text-align: center;}#sk-container-id-1 div.sk-container {/* jupyter's `normalize.less` sets `[hidden] { display: none; }` but bootstrap.min.css set `[hidden] { display: none !important; }` so we also need the `!important` here to be able to override the default hidden behavior on the sphinx rendered scikit-learn.org. See: https://github.com/scikit-learn/scikit-learn/issues/21755 */display: inline-block !important;position: relative;}#sk-container-id-1 div.sk-text-repr-fallback {display: none;}</style><div id=\"sk-container-id-1\" class=\"sk-top-container\"><div class=\"sk-text-repr-fallback\"><pre>DataFramePreparer()</pre><b>In a Jupyter environment, please rerun this cell to show the HTML representation or trust the notebook. <br />On GitHub, the HTML representation is unable to render, please try loading this page with nbviewer.org.</b></div><div class=\"sk-container\" hidden><div class=\"sk-item\"><div class=\"sk-estimator sk-toggleable\"><input class=\"sk-toggleable__control sk-hidden--visually\" id=\"sk-estimator-id-1\" type=\"checkbox\" checked><label for=\"sk-estimator-id-1\" class=\"sk-toggleable__label sk-toggleable__label-arrow\">DataFramePreparer</label><div class=\"sk-toggleable__content\"><pre>DataFramePreparer()</pre></div></div></div></div></div>"
      ],
      "text/plain": [
       "DataFramePreparer()"
      ]
     },
     "execution_count": 15,
     "metadata": {},
     "output_type": "execute_result"
    }
   ],
   "source": [
    "# Hacemos el fit con el conjunto de datos general para que adquiera todos los valores posibles\n",
    "data_preparer.fit(X)"
   ]
  },
  {
   "cell_type": "markdown",
   "id": "2fd23755",
   "metadata": {},
   "source": [
    "## Escalado del conjunto de datos"
   ]
  },
  {
   "cell_type": "markdown",
   "id": "05c689f3",
   "metadata": {},
   "source": [
    "Por norma general, los algoritmos de Machine Learning no se comportan adecuadamente si los valores de las características que reciben como entrada se encuentran en rangos muy dispares. Por ello, se utilizan distintas técnicas de escalado. **Importante tener en cuenta que estos mecanismos de escalado no deben aplicarse sobre las etiquetas.**\n",
    "* **Normalización:** Los valores del atributo se escalan para adquirir un valor entre 0 y 1\n",
    "* **Estandarización:** Los valores del atributo se escalan y reciben un valor similar pero no se encuentra dentro de un rango\n",
    "\n",
    "**Es importante que para probar estos valores se realicen las transformaciones solo sobre el conjunto de datos de entrenamiento. Después, se aplicaran sobre el conjunto de datos de prueba para testear.**"
   ]
  },
  {
   "cell_type": "code",
   "execution_count": 16,
   "id": "4d933d4b",
   "metadata": {},
   "outputs": [],
   "source": [
    "# Transformamos el subconjunto de datos de entrenamiento\n",
    "X_train_prep = data_preparer.transform(X_train)"
   ]
  },
  {
   "cell_type": "code",
   "execution_count": 17,
   "id": "e977f7cc",
   "metadata": {},
   "outputs": [
    {
     "data": {
      "text/html": [
       "<div>\n",
       "<style scoped>\n",
       "    .dataframe tbody tr th:only-of-type {\n",
       "        vertical-align: middle;\n",
       "    }\n",
       "\n",
       "    .dataframe tbody tr th {\n",
       "        vertical-align: top;\n",
       "    }\n",
       "\n",
       "    .dataframe thead th {\n",
       "        text-align: right;\n",
       "    }\n",
       "</style>\n",
       "<table border=\"1\" class=\"dataframe\">\n",
       "  <thead>\n",
       "    <tr style=\"text-align: right;\">\n",
       "      <th></th>\n",
       "      <th>Time</th>\n",
       "      <th>V1</th>\n",
       "      <th>V2</th>\n",
       "      <th>V3</th>\n",
       "      <th>V4</th>\n",
       "      <th>V5</th>\n",
       "      <th>V6</th>\n",
       "      <th>V7</th>\n",
       "      <th>V8</th>\n",
       "      <th>V9</th>\n",
       "      <th>...</th>\n",
       "      <th>V20</th>\n",
       "      <th>V21</th>\n",
       "      <th>V22</th>\n",
       "      <th>V23</th>\n",
       "      <th>V24</th>\n",
       "      <th>V25</th>\n",
       "      <th>V26</th>\n",
       "      <th>V27</th>\n",
       "      <th>V28</th>\n",
       "      <th>Amount</th>\n",
       "    </tr>\n",
       "  </thead>\n",
       "  <tbody>\n",
       "    <tr>\n",
       "      <th>128340</th>\n",
       "      <td>78676.0</td>\n",
       "      <td>-0.999916</td>\n",
       "      <td>0.444869</td>\n",
       "      <td>0.820501</td>\n",
       "      <td>-1.492318</td>\n",
       "      <td>-0.302746</td>\n",
       "      <td>-1.484973</td>\n",
       "      <td>0.227987</td>\n",
       "      <td>0.216145</td>\n",
       "      <td>-1.865137</td>\n",
       "      <td>...</td>\n",
       "      <td>0.178611</td>\n",
       "      <td>-0.209519</td>\n",
       "      <td>-1.149528</td>\n",
       "      <td>0.069974</td>\n",
       "      <td>0.259223</td>\n",
       "      <td>0.334282</td>\n",
       "      <td>-0.726982</td>\n",
       "      <td>-0.177592</td>\n",
       "      <td>-0.118796</td>\n",
       "      <td>47.75</td>\n",
       "    </tr>\n",
       "    <tr>\n",
       "      <th>3889</th>\n",
       "      <td>3456.0</td>\n",
       "      <td>-1.255712</td>\n",
       "      <td>0.233087</td>\n",
       "      <td>1.889266</td>\n",
       "      <td>-0.383876</td>\n",
       "      <td>1.184700</td>\n",
       "      <td>1.238693</td>\n",
       "      <td>0.416418</td>\n",
       "      <td>0.531286</td>\n",
       "      <td>-0.351078</td>\n",
       "      <td>...</td>\n",
       "      <td>-0.008758</td>\n",
       "      <td>0.000313</td>\n",
       "      <td>0.096979</td>\n",
       "      <td>-0.020837</td>\n",
       "      <td>-0.911278</td>\n",
       "      <td>0.205187</td>\n",
       "      <td>0.313961</td>\n",
       "      <td>0.045247</td>\n",
       "      <td>0.051500</td>\n",
       "      <td>42.95</td>\n",
       "    </tr>\n",
       "    <tr>\n",
       "      <th>62623</th>\n",
       "      <td>50347.0</td>\n",
       "      <td>-1.920730</td>\n",
       "      <td>1.397131</td>\n",
       "      <td>0.922263</td>\n",
       "      <td>1.212760</td>\n",
       "      <td>-0.557102</td>\n",
       "      <td>1.521844</td>\n",
       "      <td>-1.027909</td>\n",
       "      <td>1.667727</td>\n",
       "      <td>0.156894</td>\n",
       "      <td>...</td>\n",
       "      <td>-0.381429</td>\n",
       "      <td>-0.303654</td>\n",
       "      <td>-0.887132</td>\n",
       "      <td>-0.276220</td>\n",
       "      <td>-1.308956</td>\n",
       "      <td>0.469674</td>\n",
       "      <td>-0.308179</td>\n",
       "      <td>-0.456212</td>\n",
       "      <td>-0.174672</td>\n",
       "      <td>17.81</td>\n",
       "    </tr>\n",
       "    <tr>\n",
       "      <th>36593</th>\n",
       "      <td>38608.0</td>\n",
       "      <td>1.254452</td>\n",
       "      <td>-0.810990</td>\n",
       "      <td>1.052806</td>\n",
       "      <td>-0.735200</td>\n",
       "      <td>-1.410761</td>\n",
       "      <td>-0.056601</td>\n",
       "      <td>-1.215284</td>\n",
       "      <td>0.228571</td>\n",
       "      <td>-0.616175</td>\n",
       "      <td>...</td>\n",
       "      <td>0.058496</td>\n",
       "      <td>0.475635</td>\n",
       "      <td>1.283407</td>\n",
       "      <td>-0.063944</td>\n",
       "      <td>0.269698</td>\n",
       "      <td>0.280091</td>\n",
       "      <td>-0.049809</td>\n",
       "      <td>0.045949</td>\n",
       "      <td>0.015315</td>\n",
       "      <td>22.00</td>\n",
       "    </tr>\n",
       "    <tr>\n",
       "      <th>108337</th>\n",
       "      <td>70852.0</td>\n",
       "      <td>-1.332723</td>\n",
       "      <td>0.487730</td>\n",
       "      <td>-0.502495</td>\n",
       "      <td>-0.185740</td>\n",
       "      <td>0.927767</td>\n",
       "      <td>0.946815</td>\n",
       "      <td>2.859374</td>\n",
       "      <td>-0.223567</td>\n",
       "      <td>-1.546564</td>\n",
       "      <td>...</td>\n",
       "      <td>-0.185548</td>\n",
       "      <td>0.400932</td>\n",
       "      <td>1.420386</td>\n",
       "      <td>-0.101173</td>\n",
       "      <td>-0.837584</td>\n",
       "      <td>1.093588</td>\n",
       "      <td>1.149629</td>\n",
       "      <td>-0.001493</td>\n",
       "      <td>-0.096190</td>\n",
       "      <td>309.90</td>\n",
       "    </tr>\n",
       "  </tbody>\n",
       "</table>\n",
       "<p>5 rows × 30 columns</p>\n",
       "</div>"
      ],
      "text/plain": [
       "           Time        V1        V2        V3        V4        V5        V6  \\\n",
       "128340  78676.0 -0.999916  0.444869  0.820501 -1.492318 -0.302746 -1.484973   \n",
       "3889     3456.0 -1.255712  0.233087  1.889266 -0.383876  1.184700  1.238693   \n",
       "62623   50347.0 -1.920730  1.397131  0.922263  1.212760 -0.557102  1.521844   \n",
       "36593   38608.0  1.254452 -0.810990  1.052806 -0.735200 -1.410761 -0.056601   \n",
       "108337  70852.0 -1.332723  0.487730 -0.502495 -0.185740  0.927767  0.946815   \n",
       "\n",
       "              V7        V8        V9  ...       V20       V21       V22  \\\n",
       "128340  0.227987  0.216145 -1.865137  ...  0.178611 -0.209519 -1.149528   \n",
       "3889    0.416418  0.531286 -0.351078  ... -0.008758  0.000313  0.096979   \n",
       "62623  -1.027909  1.667727  0.156894  ... -0.381429 -0.303654 -0.887132   \n",
       "36593  -1.215284  0.228571 -0.616175  ...  0.058496  0.475635  1.283407   \n",
       "108337  2.859374 -0.223567 -1.546564  ... -0.185548  0.400932  1.420386   \n",
       "\n",
       "             V23       V24       V25       V26       V27       V28  Amount  \n",
       "128340  0.069974  0.259223  0.334282 -0.726982 -0.177592 -0.118796   47.75  \n",
       "3889   -0.020837 -0.911278  0.205187  0.313961  0.045247  0.051500   42.95  \n",
       "62623  -0.276220 -1.308956  0.469674 -0.308179 -0.456212 -0.174672   17.81  \n",
       "36593  -0.063944  0.269698  0.280091 -0.049809  0.045949  0.015315   22.00  \n",
       "108337 -0.101173 -0.837584  1.093588  1.149629 -0.001493 -0.096190  309.90  \n",
       "\n",
       "[5 rows x 30 columns]"
      ]
     },
     "execution_count": 17,
     "metadata": {},
     "output_type": "execute_result"
    }
   ],
   "source": [
    "X_train.head(5)"
   ]
  },
  {
   "cell_type": "code",
   "execution_count": 18,
   "id": "06a91fe3",
   "metadata": {
    "scrolled": true
   },
   "outputs": [
    {
     "data": {
      "text/html": [
       "<div>\n",
       "<style scoped>\n",
       "    .dataframe tbody tr th:only-of-type {\n",
       "        vertical-align: middle;\n",
       "    }\n",
       "\n",
       "    .dataframe tbody tr th {\n",
       "        vertical-align: top;\n",
       "    }\n",
       "\n",
       "    .dataframe thead th {\n",
       "        text-align: right;\n",
       "    }\n",
       "</style>\n",
       "<table border=\"1\" class=\"dataframe\">\n",
       "  <thead>\n",
       "    <tr style=\"text-align: right;\">\n",
       "      <th></th>\n",
       "      <th>Time</th>\n",
       "      <th>V1</th>\n",
       "      <th>V2</th>\n",
       "      <th>V3</th>\n",
       "      <th>V4</th>\n",
       "      <th>V5</th>\n",
       "      <th>V6</th>\n",
       "      <th>V7</th>\n",
       "      <th>V8</th>\n",
       "      <th>V9</th>\n",
       "      <th>...</th>\n",
       "      <th>V20</th>\n",
       "      <th>V21</th>\n",
       "      <th>V22</th>\n",
       "      <th>V23</th>\n",
       "      <th>V24</th>\n",
       "      <th>V25</th>\n",
       "      <th>V26</th>\n",
       "      <th>V27</th>\n",
       "      <th>V28</th>\n",
       "      <th>Amount</th>\n",
       "    </tr>\n",
       "  </thead>\n",
       "  <tbody>\n",
       "    <tr>\n",
       "      <th>128340</th>\n",
       "      <td>-0.070678</td>\n",
       "      <td>-0.455285</td>\n",
       "      <td>0.270549</td>\n",
       "      <td>0.334099</td>\n",
       "      <td>-0.924930</td>\n",
       "      <td>-0.190568</td>\n",
       "      <td>-1.037644</td>\n",
       "      <td>0.167080</td>\n",
       "      <td>0.361560</td>\n",
       "      <td>-1.462389</td>\n",
       "      <td>...</td>\n",
       "      <td>0.699301</td>\n",
       "      <td>-0.434138</td>\n",
       "      <td>-1.079751</td>\n",
       "      <td>0.262260</td>\n",
       "      <td>0.274832</td>\n",
       "      <td>0.475681</td>\n",
       "      <td>-1.188238</td>\n",
       "      <td>-1.105317</td>\n",
       "      <td>-0.990858</td>\n",
       "      <td>0.359813</td>\n",
       "    </tr>\n",
       "    <tr>\n",
       "      <th>3889</th>\n",
       "      <td>-0.954382</td>\n",
       "      <td>-0.569683</td>\n",
       "      <td>0.119521</td>\n",
       "      <td>0.891456</td>\n",
       "      <td>-0.228664</td>\n",
       "      <td>0.950528</td>\n",
       "      <td>1.296539</td>\n",
       "      <td>0.334648</td>\n",
       "      <td>0.949536</td>\n",
       "      <td>-0.241606</td>\n",
       "      <td>...</td>\n",
       "      <td>0.155826</td>\n",
       "      <td>0.071758</td>\n",
       "      <td>0.084225</td>\n",
       "      <td>-0.031163</td>\n",
       "      <td>-1.199143</td>\n",
       "      <td>0.282385</td>\n",
       "      <td>0.644614</td>\n",
       "      <td>0.271210</td>\n",
       "      <td>0.306735</td>\n",
       "      <td>0.292741</td>\n",
       "    </tr>\n",
       "    <tr>\n",
       "      <th>62623</th>\n",
       "      <td>-0.403494</td>\n",
       "      <td>-0.867096</td>\n",
       "      <td>0.949633</td>\n",
       "      <td>0.387167</td>\n",
       "      <td>0.774259</td>\n",
       "      <td>-0.385698</td>\n",
       "      <td>1.539199</td>\n",
       "      <td>-0.949757</td>\n",
       "      <td>3.069859</td>\n",
       "      <td>0.167971</td>\n",
       "      <td>...</td>\n",
       "      <td>-0.925124</td>\n",
       "      <td>-0.661095</td>\n",
       "      <td>-0.834728</td>\n",
       "      <td>-0.856339</td>\n",
       "      <td>-1.699925</td>\n",
       "      <td>0.678406</td>\n",
       "      <td>-0.450825</td>\n",
       "      <td>-2.826420</td>\n",
       "      <td>-1.416613</td>\n",
       "      <td>-0.058548</td>\n",
       "    </tr>\n",
       "    <tr>\n",
       "      <th>36593</th>\n",
       "      <td>-0.541407</td>\n",
       "      <td>0.552923</td>\n",
       "      <td>-0.625039</td>\n",
       "      <td>0.455245</td>\n",
       "      <td>-0.449348</td>\n",
       "      <td>-1.040583</td>\n",
       "      <td>0.186471</td>\n",
       "      <td>-1.116384</td>\n",
       "      <td>0.384743</td>\n",
       "      <td>-0.455353</td>\n",
       "      <td>...</td>\n",
       "      <td>0.350900</td>\n",
       "      <td>1.217742</td>\n",
       "      <td>1.192101</td>\n",
       "      <td>-0.170445</td>\n",
       "      <td>0.288022</td>\n",
       "      <td>0.394539</td>\n",
       "      <td>0.004103</td>\n",
       "      <td>0.275549</td>\n",
       "      <td>0.031017</td>\n",
       "      <td>0.000000</td>\n",
       "    </tr>\n",
       "    <tr>\n",
       "      <th>108337</th>\n",
       "      <td>-0.162596</td>\n",
       "      <td>-0.604125</td>\n",
       "      <td>0.301114</td>\n",
       "      <td>-0.355838</td>\n",
       "      <td>-0.104205</td>\n",
       "      <td>0.753422</td>\n",
       "      <td>1.046399</td>\n",
       "      <td>2.507107</td>\n",
       "      <td>-0.458837</td>\n",
       "      <td>-1.205524</td>\n",
       "      <td>...</td>\n",
       "      <td>-0.356962</td>\n",
       "      <td>1.037635</td>\n",
       "      <td>1.320010</td>\n",
       "      <td>-0.290739</td>\n",
       "      <td>-1.106342</td>\n",
       "      <td>1.612603</td>\n",
       "      <td>2.116027</td>\n",
       "      <td>-0.017512</td>\n",
       "      <td>-0.818606</td>\n",
       "      <td>4.022916</td>\n",
       "    </tr>\n",
       "  </tbody>\n",
       "</table>\n",
       "<p>5 rows × 30 columns</p>\n",
       "</div>"
      ],
      "text/plain": [
       "            Time        V1        V2        V3        V4        V5        V6  \\\n",
       "128340 -0.070678 -0.455285  0.270549  0.334099 -0.924930 -0.190568 -1.037644   \n",
       "3889   -0.954382 -0.569683  0.119521  0.891456 -0.228664  0.950528  1.296539   \n",
       "62623  -0.403494 -0.867096  0.949633  0.387167  0.774259 -0.385698  1.539199   \n",
       "36593  -0.541407  0.552923 -0.625039  0.455245 -0.449348 -1.040583  0.186471   \n",
       "108337 -0.162596 -0.604125  0.301114 -0.355838 -0.104205  0.753422  1.046399   \n",
       "\n",
       "              V7        V8        V9  ...       V20       V21       V22  \\\n",
       "128340  0.167080  0.361560 -1.462389  ...  0.699301 -0.434138 -1.079751   \n",
       "3889    0.334648  0.949536 -0.241606  ...  0.155826  0.071758  0.084225   \n",
       "62623  -0.949757  3.069859  0.167971  ... -0.925124 -0.661095 -0.834728   \n",
       "36593  -1.116384  0.384743 -0.455353  ...  0.350900  1.217742  1.192101   \n",
       "108337  2.507107 -0.458837 -1.205524  ... -0.356962  1.037635  1.320010   \n",
       "\n",
       "             V23       V24       V25       V26       V27       V28    Amount  \n",
       "128340  0.262260  0.274832  0.475681 -1.188238 -1.105317 -0.990858  0.359813  \n",
       "3889   -0.031163 -1.199143  0.282385  0.644614  0.271210  0.306735  0.292741  \n",
       "62623  -0.856339 -1.699925  0.678406 -0.450825 -2.826420 -1.416613 -0.058548  \n",
       "36593  -0.170445  0.288022  0.394539  0.004103  0.275549  0.031017  0.000000  \n",
       "108337 -0.290739 -1.106342  1.612603  2.116027 -0.017512 -0.818606  4.022916  \n",
       "\n",
       "[5 rows x 30 columns]"
      ]
     },
     "execution_count": 18,
     "metadata": {},
     "output_type": "execute_result"
    }
   ],
   "source": [
    "X_train_prep.head(5)"
   ]
  },
  {
   "cell_type": "code",
   "execution_count": 19,
   "id": "f4e539b3",
   "metadata": {},
   "outputs": [],
   "source": [
    "# Transformamos el subconjunto de datos de validacion\n",
    "X_test_prep = data_preparer.transform(X_test)"
   ]
  },
  {
   "cell_type": "code",
   "execution_count": 20,
   "id": "458d3c6b",
   "metadata": {},
   "outputs": [
    {
     "data": {
      "text/html": [
       "<style>#sk-container-id-2 {color: black;background-color: white;}#sk-container-id-2 pre{padding: 0;}#sk-container-id-2 div.sk-toggleable {background-color: white;}#sk-container-id-2 label.sk-toggleable__label {cursor: pointer;display: block;width: 100%;margin-bottom: 0;padding: 0.3em;box-sizing: border-box;text-align: center;}#sk-container-id-2 label.sk-toggleable__label-arrow:before {content: \"▸\";float: left;margin-right: 0.25em;color: #696969;}#sk-container-id-2 label.sk-toggleable__label-arrow:hover:before {color: black;}#sk-container-id-2 div.sk-estimator:hover label.sk-toggleable__label-arrow:before {color: black;}#sk-container-id-2 div.sk-toggleable__content {max-height: 0;max-width: 0;overflow: hidden;text-align: left;background-color: #f0f8ff;}#sk-container-id-2 div.sk-toggleable__content pre {margin: 0.2em;color: black;border-radius: 0.25em;background-color: #f0f8ff;}#sk-container-id-2 input.sk-toggleable__control:checked~div.sk-toggleable__content {max-height: 200px;max-width: 100%;overflow: auto;}#sk-container-id-2 input.sk-toggleable__control:checked~label.sk-toggleable__label-arrow:before {content: \"▾\";}#sk-container-id-2 div.sk-estimator input.sk-toggleable__control:checked~label.sk-toggleable__label {background-color: #d4ebff;}#sk-container-id-2 div.sk-label input.sk-toggleable__control:checked~label.sk-toggleable__label {background-color: #d4ebff;}#sk-container-id-2 input.sk-hidden--visually {border: 0;clip: rect(1px 1px 1px 1px);clip: rect(1px, 1px, 1px, 1px);height: 1px;margin: -1px;overflow: hidden;padding: 0;position: absolute;width: 1px;}#sk-container-id-2 div.sk-estimator {font-family: monospace;background-color: #f0f8ff;border: 1px dotted black;border-radius: 0.25em;box-sizing: border-box;margin-bottom: 0.5em;}#sk-container-id-2 div.sk-estimator:hover {background-color: #d4ebff;}#sk-container-id-2 div.sk-parallel-item::after {content: \"\";width: 100%;border-bottom: 1px solid gray;flex-grow: 1;}#sk-container-id-2 div.sk-label:hover label.sk-toggleable__label {background-color: #d4ebff;}#sk-container-id-2 div.sk-serial::before {content: \"\";position: absolute;border-left: 1px solid gray;box-sizing: border-box;top: 0;bottom: 0;left: 50%;z-index: 0;}#sk-container-id-2 div.sk-serial {display: flex;flex-direction: column;align-items: center;background-color: white;padding-right: 0.2em;padding-left: 0.2em;position: relative;}#sk-container-id-2 div.sk-item {position: relative;z-index: 1;}#sk-container-id-2 div.sk-parallel {display: flex;align-items: stretch;justify-content: center;background-color: white;position: relative;}#sk-container-id-2 div.sk-item::before, #sk-container-id-2 div.sk-parallel-item::before {content: \"\";position: absolute;border-left: 1px solid gray;box-sizing: border-box;top: 0;bottom: 0;left: 50%;z-index: -1;}#sk-container-id-2 div.sk-parallel-item {display: flex;flex-direction: column;z-index: 1;position: relative;background-color: white;}#sk-container-id-2 div.sk-parallel-item:first-child::after {align-self: flex-end;width: 50%;}#sk-container-id-2 div.sk-parallel-item:last-child::after {align-self: flex-start;width: 50%;}#sk-container-id-2 div.sk-parallel-item:only-child::after {width: 0;}#sk-container-id-2 div.sk-dashed-wrapped {border: 1px dashed gray;margin: 0 0.4em 0.5em 0.4em;box-sizing: border-box;padding-bottom: 0.4em;background-color: white;}#sk-container-id-2 div.sk-label label {font-family: monospace;font-weight: bold;display: inline-block;line-height: 1.2em;}#sk-container-id-2 div.sk-label-container {text-align: center;}#sk-container-id-2 div.sk-container {/* jupyter's `normalize.less` sets `[hidden] { display: none; }` but bootstrap.min.css set `[hidden] { display: none !important; }` so we also need the `!important` here to be able to override the default hidden behavior on the sphinx rendered scikit-learn.org. See: https://github.com/scikit-learn/scikit-learn/issues/21755 */display: inline-block !important;position: relative;}#sk-container-id-2 div.sk-text-repr-fallback {display: none;}</style><div id=\"sk-container-id-2\" class=\"sk-top-container\"><div class=\"sk-text-repr-fallback\"><pre>LogisticRegression(penalty=&#x27;none&#x27;)</pre><b>In a Jupyter environment, please rerun this cell to show the HTML representation or trust the notebook. <br />On GitHub, the HTML representation is unable to render, please try loading this page with nbviewer.org.</b></div><div class=\"sk-container\" hidden><div class=\"sk-item\"><div class=\"sk-estimator sk-toggleable\"><input class=\"sk-toggleable__control sk-hidden--visually\" id=\"sk-estimator-id-2\" type=\"checkbox\" checked><label for=\"sk-estimator-id-2\" class=\"sk-toggleable__label sk-toggleable__label-arrow\">LogisticRegression</label><div class=\"sk-toggleable__content\"><pre>LogisticRegression(penalty=&#x27;none&#x27;)</pre></div></div></div></div></div>"
      ],
      "text/plain": [
       "LogisticRegression(penalty='none')"
      ]
     },
     "execution_count": 20,
     "metadata": {},
     "output_type": "execute_result"
    }
   ],
   "source": [
    "LG = LogisticRegression(penalty='none')\n",
    "LG.fit(X = X_train_prep, y = Y_train)"
   ]
  },
  {
   "cell_type": "code",
   "execution_count": 21,
   "id": "49ff7fb7",
   "metadata": {
    "scrolled": true
   },
   "outputs": [
    {
     "name": "stdout",
     "output_type": "stream",
     "text": [
      "Accuracy de entrenamiento: 0.9982338917231669\n"
     ]
    }
   ],
   "source": [
    "print(\"Accuracy de entrenamiento:\", LG.score(X, Y))"
   ]
  },
  {
   "cell_type": "code",
   "execution_count": 22,
   "id": "9b2bd77d",
   "metadata": {},
   "outputs": [
    {
     "name": "stdout",
     "output_type": "stream",
     "text": [
      "0.9992451107756047\n"
     ]
    }
   ],
   "source": [
    "# Accuracy de test del modelo \n",
    "# ==============================================================================\n",
    "Y_pred = LG.predict(X = X_test_prep)\n",
    "\n",
    "print(accuracy_score(Y_test, Y_pred))"
   ]
  },
  {
   "cell_type": "markdown",
   "id": "a3f9545a",
   "metadata": {},
   "source": [
    "## Matriz de Confusión"
   ]
  },
  {
   "cell_type": "code",
   "execution_count": 23,
   "id": "02c8eeac",
   "metadata": {},
   "outputs": [
    {
     "data": {
      "text/plain": [
       "array([[56859,     5],\n",
       "       [   38,    60]], dtype=int64)"
      ]
     },
     "execution_count": 23,
     "metadata": {},
     "output_type": "execute_result"
    }
   ],
   "source": [
    "from sklearn.metrics import confusion_matrix\n",
    "\n",
    "cm=confusion_matrix(Y_test, Y_pred)\n",
    "cm"
   ]
  },
  {
   "cell_type": "code",
   "execution_count": 24,
   "id": "a7b3d7fd",
   "metadata": {},
   "outputs": [
    {
     "data": {
      "text/plain": [
       "<sklearn.metrics._plot.confusion_matrix.ConfusionMatrixDisplay at 0x21d90366cb0>"
      ]
     },
     "execution_count": 24,
     "metadata": {},
     "output_type": "execute_result"
    },
    {
     "data": {
      "image/png": "[encoded data removed]",
      "text/plain": [
       "<Figure size 640x480 with 2 Axes>"
      ]
     },
     "metadata": {},
     "output_type": "display_data"
    }
   ],
   "source": [
    "from sklearn.metrics import confusion_matrix, ConfusionMatrixDisplay\n",
    "\n",
    "disp=ConfusionMatrixDisplay(confusion_matrix=cm,display_labels=LG.classes_)\n",
    "disp.plot()"
   ]
  },
  {
   "cell_type": "markdown",
   "id": "8dee64ea",
   "metadata": {},
   "source": [
    "## Métricas derivadas de la matriz de confusión"
   ]
  },
  {
   "cell_type": "code",
   "execution_count": 25,
   "id": "814608c4",
   "metadata": {},
   "outputs": [
    {
     "name": "stdout",
     "output_type": "stream",
     "text": [
      "Precisión: 0.9230769230769231\n"
     ]
    }
   ],
   "source": [
    "from sklearn.metrics import precision_score\n",
    "\n",
    "print(\"Precisión:\", precision_score(Y_test, Y_pred))"
   ]
  },
  {
   "cell_type": "code",
   "execution_count": 26,
   "id": "87838e52",
   "metadata": {},
   "outputs": [
    {
     "name": "stdout",
     "output_type": "stream",
     "text": [
      "Recall: 0.6122448979591837\n"
     ]
    }
   ],
   "source": [
    "from sklearn.metrics import recall_score\n",
    "\n",
    "print(\"Recall:\", recall_score(Y_test, Y_pred))"
   ]
  },
  {
   "cell_type": "code",
   "execution_count": 27,
   "id": "8efa9431",
   "metadata": {},
   "outputs": [
    {
     "name": "stdout",
     "output_type": "stream",
     "text": [
      "F1 score: 0.7361963190184049\n"
     ]
    }
   ],
   "source": [
    "from sklearn.metrics import f1_score\n",
    "\n",
    "print(\"F1 score:\", f1_score(Y_test, Y_pred))"
   ]
  },
  {
   "cell_type": "markdown",
   "id": "7bed05d4",
   "metadata": {},
   "source": [
    "## Curvas ROC y PR"
   ]
  },
  {
   "cell_type": "markdown",
   "id": "e4bcaebd",
   "metadata": {},
   "source": [
    "### Curva ROC"
   ]
  },
  {
   "cell_type": "code",
   "execution_count": 28,
   "id": "2b2aae54",
   "metadata": {},
   "outputs": [
    {
     "data": {
      "text/plain": [
       "<sklearn.metrics._plot.roc_curve.RocCurveDisplay at 0x21df45cc370>"
      ]
     },
     "execution_count": 28,
     "metadata": {},
     "output_type": "execute_result"
    },
    {
     "data": {
      "image/png": "[encoded data removed]",
      "text/plain": [
       "<Figure size 640x480 with 1 Axes>"
      ]
     },
     "metadata": {},
     "output_type": "display_data"
    }
   ],
   "source": [
    "from sklearn.metrics import RocCurveDisplay\n",
    "\n",
    "RocCurveDisplay.from_estimator(LG, X_test_prep, Y_test)"
   ]
  },
  {
   "cell_type": "markdown",
   "id": "0fa20a20",
   "metadata": {},
   "source": [
    "## Curva PR"
   ]
  },
  {
   "cell_type": "code",
   "execution_count": 29,
   "id": "24935192",
   "metadata": {},
   "outputs": [
    {
     "data": {
      "text/plain": [
       "<sklearn.metrics._plot.precision_recall_curve.PrecisionRecallDisplay at 0x21d9033dd50>"
      ]
     },
     "execution_count": 29,
     "metadata": {},
     "output_type": "execute_result"
    },
    {
     "data": {
      "image/png": "[encoded data removed]",
      "text/plain": [
       "<Figure size 640x480 with 1 Axes>"
      ]
     },
     "metadata": {},
     "output_type": "display_data"
    }
   ],
   "source": [
    "from sklearn.metrics import PrecisionRecallDisplay\n",
    "\n",
    "PrecisionRecallDisplay.from_estimator(LG, X_test_prep, Y_test)"
   ]
  },
  {
   "cell_type": "code",
   "execution_count": null,
   "id": "6a2ca81c",
   "metadata": {},
   "outputs": [],
   "source": []
  }
 ],
 "metadata": {
  "kernelspec": {
   "display_name": "Python 3 (ipykernel)",
   "language": "python",
   "name": "python3"
  },
  "language_info": {
   "codemirror_mode": {
    "name": "ipython",
    "version": 3
   },
   "file_extension": ".py",
   "mimetype": "text/x-python",
   "name": "python",
   "nbconvert_exporter": "python",
   "pygments_lexer": "ipython3",
   "version": "3.10.9"
  }
 },
 "nbformat": 4,
 "nbformat_minor": 5
}
