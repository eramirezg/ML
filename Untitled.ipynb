{
 "cells": [
  {
   "cell_type": "code",
   "execution_count": 28,
   "id": "7e047305",
   "metadata": {},
   "outputs": [
    {
     "name": "stdout",
     "output_type": "stream",
     "text": [
      "[*********************100%%**********************]  3 of 3 completed\n"
     ]
    }
   ],
   "source": [
    "from pandas_datareader import data as pdr\n",
    "import yfinance as yf\n",
    "yf.pdr_override()\n",
    "y_symbols = ['MSFT', 'IBM', 'GOOGL']\n",
    "from datetime import datetime\n",
    "startdate = datetime(2023,1,1)\n",
    "enddate = datetime(2023,10,15)\n",
    "data = pdr.get_data_yahoo(y_symbols, start=startdate, end=enddate)['Adj Close']"
   ]
  },
  {
   "cell_type": "code",
   "execution_count": 29,
   "id": "f1aae1b6",
   "metadata": {},
   "outputs": [
    {
     "data": {
      "text/plain": [
       "<bound method NDFrame.head of                  GOOGL         IBM        MSFT\n",
       "Date                                          \n",
       "2023-01-03   89.120003  134.852539  237.474335\n",
       "2023-01-04   88.080002  135.852844  227.086456\n",
       "2023-01-05   86.199997  134.433350  220.356125\n",
       "2023-01-06   87.339996  136.900803  222.953079\n",
       "2023-01-09   88.019997  136.757919  225.123840\n",
       "...                ...         ...         ...\n",
       "2023-10-09  138.419998  140.605377  329.151947\n",
       "2023-10-10  138.059998  140.516388  327.724854\n",
       "2023-10-11  140.550003  141.623825  331.746674\n",
       "2023-10-12  138.970001  139.656143  330.489227\n",
       "2023-10-13  137.360001  136.907318  327.066193\n",
       "\n",
       "[197 rows x 3 columns]>"
      ]
     },
     "execution_count": 29,
     "metadata": {},
     "output_type": "execute_result"
    }
   ],
   "source": [
    "data.head"
   ]
  },
  {
   "cell_type": "code",
   "execution_count": null,
   "id": "905fd77d",
   "metadata": {},
   "outputs": [],
   "source": []
  }
 ],
 "metadata": {
  "kernelspec": {
   "display_name": "Python 3 (ipykernel)",
   "language": "python",
   "name": "python3"
  },
  "language_info": {
   "codemirror_mode": {
    "name": "ipython",
    "version": 3
   },
   "file_extension": ".py",
   "mimetype": "text/x-python",
   "name": "python",
   "nbconvert_exporter": "python",
   "pygments_lexer": "ipython3",
   "version": "3.10.9"
  }
 },
 "nbformat": 4,
 "nbformat_minor": 5
}
