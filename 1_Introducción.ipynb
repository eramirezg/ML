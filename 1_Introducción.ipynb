{
 "cells": [
  {
   "cell_type": "markdown",
   "id": "07e21ad5",
   "metadata": {},
   "source": [
    "# MACHINE LEARNING"
   ]
  },
  {
   "cell_type": "markdown",
   "id": "4bb9f9e3",
   "metadata": {},
   "source": [
    "El exito en la creación de la IA\n",
    "será el mayor acontecimiento \n",
    "de la historia de la humanidad\n",
    "\n",
    "'Stephen Hawking\""
   ]
  },
  {
   "cell_type": "markdown",
   "id": "1bfdf07b",
   "metadata": {},
   "source": [
    "## Contexto de la Inteligencia Artificial\n",
    "\n",
    "**La IA está transformando rápidamente la vida y los negocios americanos**, mejorando la forma en que diagnosticamos y tratamos la enfermedades, cultivamos nuestros alimentos, fabricamos y entregamos nuevos productos, administramos nuestras finanzas, alimentamos nuestros hogares y viajamos del punto A al punto B.\n",
    "\n",
    "Los expertos preveen que continuarán los rapidos progresos en el campo de la inteligencia artificial especializada. Aunque **es muy poco probable que las máquinas exhiban una inteligencia ampliamente aplicable comparable o superior a la de los humanos en los próximos 20 años**, es de esperar que las máquinas alcancen y superen el rendimiento humano en más y más tareas."
   ]
  },
  {
   "cell_type": "markdown",
   "id": "f4968c33",
   "metadata": {},
   "source": [
    "## ¿Qué es el Machine Learning?\n",
    "\n",
    "En los últimos años, la **mayoría de las aplicaciones exitosas de la IA al mundo real** provienen de una de sus disciplinas conocida como Machine Learning.\n",
    "\n",
    "El aprendizaje automatico es un **subdominio de la IA** que proporciona a los sistemas la capacidad de **aprender y mejorar automáticamente a partir de la experiencia sin ser explicitamente programados para ello**. Se basa en la hipótesis subyacente de crear el modelo y trata de mejorarlo ajustando más datos en el modelo a lo largo del tiempo.[1]\n",
    "\n",
    "[1] La definición de \"sin estar explícitamente programado\" a menudo se atribuye a **Arthur Samuel**, quien acuñó el término\n",
    "\"aprendizaje automático\" en 1959. Pero la frase no se encuentra literalmente en esta publicación, y puede ser una paráfrasis\n",
    "que apareció más adelante. Conferir \"Parafraseando a Arthur Samuel (1959), la pregunta es: ¿cómo pueden las computadoras aprender a resolver problemas sin estar explícitamente programadas?\" en Koza, John R.; Bennett, Forrest H .; Andre, David; Keane, Martin A. (1996). Diseño automatizado de la topología y el dimensionamiento de los circuitos eléctricos analógicos mediante programación genética. Inteligencia Artificial en Diseño '96. Springer, Dordrecht. pp. 151-170. doi: 10.1007\n",
    "/ 978-94-009-0279-4_9.\n",
    "\n",
    "No todos los problemas en IA pueden solucionarse con Machine Learning. **El problema debe poder solucionarse con datos**."
   ]
  },
  {
   "cell_type": "markdown",
   "id": "834d2366",
   "metadata": {},
   "source": [
    "<img src=\"fig1.png\" alt=\"Drawing\" style=\"width: 500px;\"/>"
   ]
  },
  {
   "cell_type": "markdown",
   "id": "a3fd46c4",
   "metadata": {},
   "source": [
    "## ¿Cuando utilizar el Maching Learning?\n",
    "\n",
    "- En soluciones que funcionan mediante la aplicación de un conjunto extenso de reglas o heurísticas (Filtros de SPAM)\n",
    "\n",
    "- En problemas complejos en los que un análista no es capaz de determinar una solución a partir de la información existente (Clasificación de imagenes)\n",
    "\n",
    "- En entornos que fluctúan o varian con frecuencia (Trafico de red)\n",
    "\n",
    "- Apoyo de la fase de análisis en enfoques tradicionales en los que se dispone de conjuntos de datos muy grandes y difíciles de interpretar"
   ]
  },
  {
   "cell_type": "markdown",
   "id": "1a88d87a",
   "metadata": {},
   "source": [
    "## Clasificación de los sistemas de ML\n",
    "\n",
    "- En función de la manera en la que se entrenan:\n",
    "    - Aprendizaje supervisado\n",
    "    - Aprendizaje no supervisado\n",
    "    - Aprendizaje semi-supervisado\n",
    "    - Aprendizaje reforzado\n",
    "- En función de la manera en la que aprenden en el tiempo\n",
    "    - Aprendizaje online\n",
    "    - Aprendizaje batch\n",
    "- En función de la forma en la que realizan las predicciones\n",
    "    - Aprendizaje basado en instancias\n",
    "    - Aprendizaje basado en modelos\n",
    "    "
   ]
  },
  {
   "cell_type": "markdown",
   "id": "b11846b0",
   "metadata": {},
   "source": [
    "### Aprendizaje supervisado\n",
    "\n",
    "El aprendizaje supervisado es la tarea de aprendizaje automático que consiste en **aprender una función que mapea una entrada a una salida basada en pares de entrada-salida de ejemplo**\n",
    "\n",
    "La función resultante es utilizada posteriormente para predecir valores a partir de ejemplos de datos no etiquetados"
   ]
  },
  {
   "cell_type": "markdown",
   "id": "f19b1013",
   "metadata": {},
   "source": [
    "<img src=\"fig2.png\" alt=\"Drawing\" style=\"width: 600px;\"/>"
   ]
  },
  {
   "cell_type": "markdown",
   "id": "a854ef6c",
   "metadata": {},
   "source": [
    "Existen dos tipo principales de aprendizaje supervisado\n",
    "\n",
    "**Regresión:** Intenta predecir valores continuos\n",
    "\n",
    "**Clasificación:** Intenta predecir valores discretos"
   ]
  },
  {
   "cell_type": "markdown",
   "id": "0f4fb122",
   "metadata": {},
   "source": [
    "### Aprendizaje no supervisado\n",
    "\n",
    "El aprendizaje no supervisado es la tarea de aprendizaje automático que consiste en inferir una función que **describe la estructura de un conjunto de datos sin etiquetar** (es decir, datos que no se han clasificado ni categorizado)\n",
    "\n"
   ]
  },
  {
   "cell_type": "markdown",
   "id": "491539bd",
   "metadata": {},
   "source": [
    "### Aprendizaje batch\n",
    "\n",
    "Los sistemas basados en aprendizaje batch **no aprenden de manera incremental**, se entrenan utilizando todos los datos disponibles\n",
    "\n",
    "- Si se desea que el sistema se adapte a un nuevo tipo de dato, se debe entrenar de nuevo con todos los datos disponibles\n",
    "\n",
    "- Solución sencilla\n",
    "\n",
    "- Funciona bien para sistemas que no requieren un conjunto de datos muy grande ni adaptarse a nuevos datos de manera muy rápida\n",
    "\n",
    "- Muy restringido para dispositivos con una capacidad limitada de recursos, como un smartphone."
   ]
  },
  {
   "cell_type": "markdown",
   "id": "0866c47a",
   "metadata": {},
   "source": [
    "### Aprendizaje Online\n",
    "\n",
    "Los sistemas basados en aprendizaje online se **entrenan incrementalmente**, mediante el consumo incremental de datos, ya sea individuales o en pequeños grupos (mini-batches)\n",
    "\n",
    "- Solución ideal para sistemas que reciben datos continuamente y requieren adaptarse a ellos de manera rápida\n",
    "\n",
    "- Es capaz de lidiar con grandes conjuntos de datos que pueden que no entren en una sola máquina\n",
    "\n",
    "- Aparecen algunas variables importantes que hay que determinar, como el ratio de aprendizaje\n",
    "\n",
    "- Pueden ser muy inestables si por alguna razón se consumen datos de baja calidad"
   ]
  },
  {
   "cell_type": "markdown",
   "id": "cbdd9ed9",
   "metadata": {},
   "source": [
    "<img src=\"fig3.png\" alt=\"Drawing\" style=\"width: 600px;\"/>"
   ]
  },
  {
   "cell_type": "markdown",
   "id": "6dae570c",
   "metadata": {},
   "source": [
    "### Aprendizaje basado en instancias\n",
    "\n",
    "El sistema aprende los ejemplos del conjunto de datos de entrenamiento y luego intenta generalizar para nuevos ejemplares\n",
    "\n",
    "Se requiere una **medida de similitud**"
   ]
  },
  {
   "cell_type": "markdown",
   "id": "120fdb4d",
   "metadata": {},
   "source": [
    "### Aprendizaje basado en modelos\n",
    "\n",
    "Se crea un modelo que describe el conjunto de datos y se utiliza para realizar predicciones\n",
    "\n",
    "Se requiere ajustar los **parámetros del modelo**"
   ]
  },
  {
   "cell_type": "markdown",
   "id": "16eae526",
   "metadata": {},
   "source": [
    "## Selección de un modelo"
   ]
  },
  {
   "cell_type": "markdown",
   "id": "8e69b26e",
   "metadata": {},
   "source": [
    "- Dividimos el conjunto de datos en **entrenamiento, validación** y **prueba**\n",
    "\n",
    "- Se calcula la función hipótesis con el subconjunto de entrenamiento ( se calculan los parámetros $\\theta$ minimizando el error de entrenamiento $J(\\theta)$)\n",
    "\n",
    "- Se calcula el número de caracteristicas óptimo mediante la evaluación de las hipótesis anteriores con el subconjunto de validación\n",
    "\n",
    "- Se evalúa la función hipótesis resultante mediante el subconjunto de pruebas calculando su error"
   ]
  },
  {
   "cell_type": "code",
   "execution_count": null,
   "id": "944e812f",
   "metadata": {},
   "outputs": [],
   "source": []
  },
  {
   "cell_type": "code",
   "execution_count": null,
   "id": "0fc147fb-2c40-4b8c-94b4-4ec234296912",
   "metadata": {},
   "outputs": [],
   "source": []
  }
 ],
 "metadata": {
  "kernelspec": {
   "display_name": "Python 3 (ipykernel)",
   "language": "python",
   "name": "python3"
  },
  "language_info": {
   "codemirror_mode": {
    "name": "ipython",
    "version": 3
   },
   "file_extension": ".py",
   "mimetype": "text/x-python",
   "name": "python",
   "nbconvert_exporter": "python",
   "pygments_lexer": "ipython3",
   "version": "3.10.9"
  }
 },
 "nbformat": 4,
 "nbformat_minor": 5
}
