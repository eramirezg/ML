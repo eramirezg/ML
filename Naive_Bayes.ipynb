{
 "cells": [
  {
   "cell_type": "markdown",
   "id": "28f27459",
   "metadata": {},
   "source": [
    "# Naive Bayes"
   ]
  },
  {
   "cell_type": "markdown",
   "id": "af4c6d3a",
   "metadata": {},
   "source": [
    "- Es una aprendizaje supervisado\n",
    "\n",
    "- Deriva del Teorema de Bayes\n",
    "\n",
    "- El teorema de Bayes describe la probabilidad condicional de un evento, basado en el conocimiento previo de las condiciones que podrían estar relacionadas con el mismo\n",
    "\n",
    "- En problemas de clasificación, nos permite determinar la probabilidad condicional de que un determinado ejemplo pertenezca a una clase particular dadas sus caracteristicas\n",
    "\n",
    "- Siguiendo el teorema de Bayes, se debería calcular las relaciones de probabilidad entre todas las características del conjunto de datos, lo que provoca un elevado costo computacional\n",
    "\n",
    "- El teorema de Naive Bayes simplifica este proceso suponiendo independencia condicional entre las características\n"
   ]
  },
  {
   "cell_type": "markdown",
   "id": "0a4ef58e",
   "metadata": {},
   "source": [
    "## Teorema de Bayes"
   ]
  },
  {
   "cell_type": "markdown",
   "id": "b53d3b6b",
   "metadata": {},
   "source": [
    "**Probabilidad Posterior** $\\mathbb{P}(C_k|x)$: Probabilidad de que un ejemplo pertenezca a una determinada clase $C_k$ dadas sus características $(x_1,x_2,\\ldots,x_n)$\n",
    "$$\n",
    "\\mathbb{P}(C_k|x)=\\dfrac{\\mathbb{P}(x|C_k)\\mathbb{P}(c)}{\\mathbb{P}(x)}\n",
    "$$\n",
    "\n",
    "**Probabilidad de la clase** $\\mathbb{P}(C_k)$: Prevalencia de la clase $C_k$ en el conjunto de datos\n",
    "$$\n",
    "\\mathbb{P}(C_k)=\\frac{\\text{# de muestras de la clase }C_k}{\\text{Total de muestras}}\n",
    "$$\n",
    "\n",
    "**Probabilidad de predicción** $\\mathbb{P}(x)$: se refiere a la prevalencia de una característica $x$ con un valor determinado en el conjunto de datos\n",
    "$$\n",
    "\\mathbb{P}(x)=\\mathbb{P}(x_1)\\mathbb{P}(x_2)\\cdots\\mathbb{P}(x_n)\n",
    "$$\n"
   ]
  },
  {
   "cell_type": "markdown",
   "id": "9225096a",
   "metadata": {},
   "source": [
    "## Algoritmo Naive Bayes"
   ]
  },
  {
   "cell_type": "markdown",
   "id": "dc1238e1",
   "metadata": {},
   "source": [
    "Si $x=(x_1,x_2,\\ldots,x_n)$ entonces\n",
    "$$\n",
    "\\mathbb{P}(C_k|x_1,x_2,\\ldots,x_n)=\\dfrac{\\mathbb{P}(x_1,x_2,\\ldots,x_n|C_k)\\mathbb{P}(C_k)}{\\mathbb{P}(x_1,x_2,\\ldots,x_n)}\n",
    "$$\n",
    "\n",
    "Aplicando independencia condicional, es decir $\\mathbb{P}(x_i|C_k,x_j)=\\mathbb{P}(x_i|C_k)$, se tiene que\n",
    "\n",
    "$$\n",
    "\\mathbb{P}(x_1,x_2,\\ldots,x_n|C_k)=\\mathbb{P}(x_1|C_k)\\mathbb{P}(x_2|C_k)\\cdots\\mathbb{P}(x_n|C_k)\n",
    "$$\n",
    "\n",
    "Por lo tanto\n",
    "$$\n",
    "\\mathbb{P}(C_k|x_1,x_2,\\ldots,x_n)=\\dfrac{\\mathbb{P}(x_1|C_k)\\mathbb{P}(x_2|C_k)\\cdots\\mathbb{P}(x_n|C_k)\\mathbb{P}(C_k)}{\\mathbb{P}(x_1)\\mathbb{P}(x_2)\\cdots\\mathbb{P}(x_n)}\n",
    "$$\n",
    "\n",
    "Debido a que para todas las entradas en el conjunto de datos, el denominador no cambia, permanece estático, se puede eliminar el denominador, introduciendo una proporcionalidad ($\\propto$)\n",
    "$$\n",
    "\\mathbb{P}(C_k|x_1,x_2,\\ldots,x_n)\\propto\\mathbb{P}(C_k)\\prod_{i=1}^n\\mathbb{P}(x_i|C_k)\n",
    "$$\n",
    "\n",
    "Esto significa que bajo los supuestos de independencia, la distribución condicional sobre la clase $C_k$ es:\n",
    "$$\n",
    "\\mathbb{P}(C_k|x_1,x_2,\\ldots,x_n)=\\frac{1}{Z}\\mathbb{P}(C_k)\\prod_{i=1}^n\\mathbb{P}(x_i|C_k)\n",
    "$$\n",
    "donde $Z=\\mathbb{P}(x)$ es un factor de escala que depende sólo de $x_1,x_2,\\ldots,x_n$, es decir, es una constante si se conocen los valores de las variables de características\n",
    "\n",
    "Por lo tanto, necesitamos encontrar la clase $C_k$ con la máxima probabilidad.\n",
    "$$\n",
    "C_k=\\max_{C_k}\\mathbb{P}(C_k)\\prod_{i=1}^n\\mathbb{P}(x_i|C_k)\n",
    "$$\n",
    "\n",
    "esto se conoce como regla de decisión *máxima a posteriori* o *MAP*. Usando la función anterior, podemos obtener la clase, dados los predictores.\n",
    "\n",
    "Si una clase dada y un valor de característica nunca ocurren juntos en los datos de entrenamiento, entonces la estimación de probabilidad basada en la frecuencia será cero, porque la estimación de probabilidad es directamente proporcional al número de ocurrencias del valor de una característica. Esto es problemático porque eliminará toda la información en las otras probabilidades cuando se multipliquen. Por lo tanto, a menudo es deseable incorporar una corrección de muestra pequeña, llamada *pseudoconteo* , en todas las estimaciones de probabilidad, de modo que ninguna probabilidad se establezca nunca en exactamente cero. Esta forma de regularizar el Naive Bayes se denomina *suavizado de Laplace* cuando la pseudocuenta es uno, y *suavizado de Lidstone* en el caso general."
   ]
  },
  {
   "cell_type": "markdown",
   "id": "273d9847",
   "metadata": {},
   "source": [
    "## Tipos de algoritmos Naive Bayes"
   ]
  },
  {
   "cell_type": "markdown",
   "id": "8770894a",
   "metadata": {},
   "source": [
    "- **Multinomial Naive Bayes**: El clasificador Naive Bayes multinomial es **adecuado para la clasificación con características discretas** (por ejemplo, recuentos de palabras para la clasificación de texto). La probabilidad de observar $x$ dado $C_k$, viene dada por\n",
    "$$\n",
    "\\mathbb{P}(x|C_k)=\\dfrac{\\left(\\sum_{i=1}^nx_i\\right)!}{\\prod_{i=1}^nx_i!}\\prod_{i=1}^n\\mathbb{P}(x_i|C_k)^{x_i}\n",
    "$$\n",
    "El clasificador multinomialNB se convierte en un *clasificador lineal* cuando se expresa en espacio logaritmico\n",
    "\\begin{eqnarray*}\n",
    "\\log\\mathbb{P}(C_k|x)&\\propto &\\log\\left(\\mathbb{P}(C_k)\\prod_{i=1}^n\\mathbb{P}(x_i|C_k)^{x_i}\\right)\\\\\n",
    "&=&\\log\\mathbb{P}(C_k)+\\sum_{i=1}^nx_i\\cdot\\log\\mathbb{P}(x_i|C_k)^{x_i}\\\\\n",
    "&=&b+\\theta_k^Tx\n",
    "\\end{eqnarray*}\n",
    "donde $b=\\log\\mathbb{P}(C_k)$ y $\\theta_{ki}=\\log\\mathbb{P}(x_i|C_k)^{x_i}$\n",
    "\n",
    "- **Bernoulli Naive Bayes**: Al igual que MultinomialNB, este clasificador es adecuado para datos discretos. La diferencia es que mientras MultinomialNB funciona con recuentos de ocurrencia, BernoulliNB está diseñado para funciones binarias/booleanas. La función de verosimilitud de $x$ dada $C_k$ está dada por\n",
    "$$\n",
    "\\mathbb{P}(x|C_k)=\\prod_{i=1}^n\\mathbb{P}(x_i|C_k)^{x_i}\\left[1-\\mathbb{P}(x_i|C_k)\\right]^{(1-x_i)}\n",
    "$$\n",
    "\n",
    "- **Gaussian Naive Bayes**: Es apropiada para datos continuos que se distribuyen conforme a una distribución normal o Gaussiana. Entonces, la densidad de $x$ dada $C_k$, está dada por\n",
    "$$\n",
    "\\mathbb{P}(x|C_k)=\\frac{1}{\\sqrt{2\\pi\\sigma_k^2}}e^{-\\frac{1}{2}\\frac{(x-\\mu_k)^2}{\\sigma_k^2}}\n",
    "$$"
   ]
  },
  {
   "cell_type": "markdown",
   "id": "6d408ce2",
   "metadata": {},
   "source": [
    "## Ejemplo de clasificación \n",
    "\n",
    "El conjunto de datos contienen transacciones realizadas con tarjetas de crédito en septiembre de 2013 por titulares de tarjetas europeos.\n",
    "\n",
    "Contiene solo variables de entrada numéricas que son el resultado de una transformación PCA. Desafortunadamente, debido a problemas de confidencialidad, no podemos proporcionar las características originales ni más información general sobre los datos. Las características V1, V2, … V28 son los principales componentes obtenidos con PCA, las únicas características que no han sido transformadas con PCA son 'Tiempo' y 'Cantidad'. La característica 'Tiempo' contiene los segundos transcurridos entre cada transacción y la primera transacción en el conjunto de datos. La función 'Cantidad' es la cantidad de la transacción, esta función se puede utilizar para el aprendizaje sensible a los costos dependiente del ejemplo. Feature 'Class' es la variable de respuesta y toma valor 1 en caso de fraude y 0 en caso contrario."
   ]
  },
  {
   "cell_type": "markdown",
   "id": "778c86a1",
   "metadata": {},
   "source": [
    "## Importar librerias"
   ]
  },
  {
   "cell_type": "code",
   "execution_count": 14,
   "id": "fa796a3f",
   "metadata": {},
   "outputs": [],
   "source": [
    "import numpy as np\n",
    "import pandas as pd\n",
    "import seaborn as sns\n",
    "import copy\n",
    "\n",
    "from matplotlib import pyplot\n",
    "from pandas import read_csv, set_option\n",
    "from pandas.plotting import scatter_matrix\n",
    "from sklearn.model_selection import train_test_split\n",
    "from sklearn.naive_bayes import BernoulliNB\n",
    "from sklearn.preprocessing import RobustScaler\n",
    "from sklearn.compose import ColumnTransformer\n",
    "from sklearn.preprocessing import OneHotEncoder\n",
    "from sklearn.pipeline import Pipeline\n",
    "from sklearn.impute import SimpleImputer\n",
    "from sklearn.base import BaseEstimator, TransformerMixin\n",
    "#Metricas\n",
    "from sklearn.metrics import classification_report, confusion_matrix, accuracy_score\n",
    "from sklearn.metrics import mean_squared_error\n",
    "# Configuración warnings\n",
    "# ==============================================================================\n",
    "import warnings\n",
    "warnings.filterwarnings('ignore')"
   ]
  },
  {
   "cell_type": "markdown",
   "id": "b909c5f3",
   "metadata": {},
   "source": [
    "## Funciones auxiliares"
   ]
  },
  {
   "cell_type": "code",
   "execution_count": 2,
   "id": "d19fbce1",
   "metadata": {},
   "outputs": [],
   "source": [
    "# Construcción de un pipeline para los atributos numéricos\n",
    "num_pipeline = Pipeline([\n",
    "        ('imputer', SimpleImputer(strategy=\"median\")),\n",
    "        ('rbst_scaler', RobustScaler()),\n",
    "    ])"
   ]
  },
  {
   "cell_type": "code",
   "execution_count": 3,
   "id": "e6d7abd0",
   "metadata": {},
   "outputs": [],
   "source": [
    "# Transormador para codificar únicamente las columnas categoricas y devolver un df\n",
    "class CustomOneHotEncoder(BaseEstimator, TransformerMixin):\n",
    "    def __init__(self):\n",
    "        self._oh = OneHotEncoder(sparse=False)\n",
    "        self._columns = None\n",
    "    def fit(self, X, y=None):\n",
    "        X_cat = X.select_dtypes(include=['object'])\n",
    "        self._columns = pd.get_dummies(X_cat).columns\n",
    "        self._oh.fit(X_cat)\n",
    "        return self\n",
    "    def transform(self, X, y=None):\n",
    "        X_copy = X.copy()\n",
    "        X_cat = X_copy.select_dtypes(include=['object'])\n",
    "        X_num = X_copy.select_dtypes(exclude=['object'])\n",
    "        X_cat_oh = self._oh.transform(X_cat)\n",
    "        X_cat_oh = pd.DataFrame(X_cat_oh, \n",
    "                                columns=self._columns, \n",
    "                                index=X_copy.index)\n",
    "        X_copy.drop(list(X_cat), axis=1, inplace=True)\n",
    "        return X_copy.join(X_cat_oh)"
   ]
  },
  {
   "cell_type": "code",
   "execution_count": 4,
   "id": "4d7d18d3",
   "metadata": {},
   "outputs": [],
   "source": [
    "# Transformador que prepara todo el conjunto de datos llamando pipelines y transformadores personalizados\n",
    "class DataFramePreparer(BaseEstimator, TransformerMixin):\n",
    "    def __init__(self):\n",
    "        self._full_pipeline = None\n",
    "        self._columns = None\n",
    "    def fit(self, X, y=None):\n",
    "        num_attribs = list(X.select_dtypes(exclude=['object']))\n",
    "        cat_attribs = list(X.select_dtypes(include=['object']))\n",
    "        self._full_pipeline = ColumnTransformer([\n",
    "                (\"num\", num_pipeline, num_attribs),\n",
    "                (\"cat\", CustomOneHotEncoder(), cat_attribs),\n",
    "        ])\n",
    "        self._full_pipeline.fit(X)\n",
    "        self._columns = pd.get_dummies(X).columns\n",
    "        return self\n",
    "    def transform(self, X, y=None):\n",
    "        X_copy = X.copy()\n",
    "        X_prep = self._full_pipeline.transform(X_copy)\n",
    "        return pd.DataFrame(X_prep, \n",
    "                            columns=self._columns, \n",
    "                            index=X_copy.index)"
   ]
  },
  {
   "cell_type": "markdown",
   "id": "3a81d2d5",
   "metadata": {},
   "source": [
    "# Cargar datos"
   ]
  },
  {
   "cell_type": "code",
   "execution_count": 5,
   "id": "c3f74c7f",
   "metadata": {},
   "outputs": [],
   "source": [
    "dataset = pd.read_csv(\"creditcard.csv\")"
   ]
  },
  {
   "cell_type": "markdown",
   "id": "70e7c142",
   "metadata": {},
   "source": [
    "## División del conjunto de datos"
   ]
  },
  {
   "cell_type": "code",
   "execution_count": 6,
   "id": "8cab9d88",
   "metadata": {},
   "outputs": [],
   "source": [
    "Y= dataset[\"Class\"]\n",
    "X = dataset.loc[:, dataset.columns != 'Class']\n",
    "validation_size = 0.2\n",
    "seed = 7\n",
    "X_train, X_test, Y_train, Y_test =train_test_split(X, Y, test_size=validation_size, \n",
    "                                                   stratify=dataset[\"Class\"],\n",
    "                                                   random_state=seed)"
   ]
  },
  {
   "cell_type": "markdown",
   "id": "534a8080",
   "metadata": {},
   "source": [
    "## Preparación del conjunto de datos¶"
   ]
  },
  {
   "cell_type": "code",
   "execution_count": 7,
   "id": "5b6f9622",
   "metadata": {},
   "outputs": [],
   "source": [
    "# Instanciamos nuestro transformador personalizado\n",
    "data_preparer = DataFramePreparer()"
   ]
  },
  {
   "cell_type": "code",
   "execution_count": 8,
   "id": "bb82fa43",
   "metadata": {},
   "outputs": [
    {
     "data": {
      "text/html": [
       "<style>#sk-container-id-1 {color: black;background-color: white;}#sk-container-id-1 pre{padding: 0;}#sk-container-id-1 div.sk-toggleable {background-color: white;}#sk-container-id-1 label.sk-toggleable__label {cursor: pointer;display: block;width: 100%;margin-bottom: 0;padding: 0.3em;box-sizing: border-box;text-align: center;}#sk-container-id-1 label.sk-toggleable__label-arrow:before {content: \"▸\";float: left;margin-right: 0.25em;color: #696969;}#sk-container-id-1 label.sk-toggleable__label-arrow:hover:before {color: black;}#sk-container-id-1 div.sk-estimator:hover label.sk-toggleable__label-arrow:before {color: black;}#sk-container-id-1 div.sk-toggleable__content {max-height: 0;max-width: 0;overflow: hidden;text-align: left;background-color: #f0f8ff;}#sk-container-id-1 div.sk-toggleable__content pre {margin: 0.2em;color: black;border-radius: 0.25em;background-color: #f0f8ff;}#sk-container-id-1 input.sk-toggleable__control:checked~div.sk-toggleable__content {max-height: 200px;max-width: 100%;overflow: auto;}#sk-container-id-1 input.sk-toggleable__control:checked~label.sk-toggleable__label-arrow:before {content: \"▾\";}#sk-container-id-1 div.sk-estimator input.sk-toggleable__control:checked~label.sk-toggleable__label {background-color: #d4ebff;}#sk-container-id-1 div.sk-label input.sk-toggleable__control:checked~label.sk-toggleable__label {background-color: #d4ebff;}#sk-container-id-1 input.sk-hidden--visually {border: 0;clip: rect(1px 1px 1px 1px);clip: rect(1px, 1px, 1px, 1px);height: 1px;margin: -1px;overflow: hidden;padding: 0;position: absolute;width: 1px;}#sk-container-id-1 div.sk-estimator {font-family: monospace;background-color: #f0f8ff;border: 1px dotted black;border-radius: 0.25em;box-sizing: border-box;margin-bottom: 0.5em;}#sk-container-id-1 div.sk-estimator:hover {background-color: #d4ebff;}#sk-container-id-1 div.sk-parallel-item::after {content: \"\";width: 100%;border-bottom: 1px solid gray;flex-grow: 1;}#sk-container-id-1 div.sk-label:hover label.sk-toggleable__label {background-color: #d4ebff;}#sk-container-id-1 div.sk-serial::before {content: \"\";position: absolute;border-left: 1px solid gray;box-sizing: border-box;top: 0;bottom: 0;left: 50%;z-index: 0;}#sk-container-id-1 div.sk-serial {display: flex;flex-direction: column;align-items: center;background-color: white;padding-right: 0.2em;padding-left: 0.2em;position: relative;}#sk-container-id-1 div.sk-item {position: relative;z-index: 1;}#sk-container-id-1 div.sk-parallel {display: flex;align-items: stretch;justify-content: center;background-color: white;position: relative;}#sk-container-id-1 div.sk-item::before, #sk-container-id-1 div.sk-parallel-item::before {content: \"\";position: absolute;border-left: 1px solid gray;box-sizing: border-box;top: 0;bottom: 0;left: 50%;z-index: -1;}#sk-container-id-1 div.sk-parallel-item {display: flex;flex-direction: column;z-index: 1;position: relative;background-color: white;}#sk-container-id-1 div.sk-parallel-item:first-child::after {align-self: flex-end;width: 50%;}#sk-container-id-1 div.sk-parallel-item:last-child::after {align-self: flex-start;width: 50%;}#sk-container-id-1 div.sk-parallel-item:only-child::after {width: 0;}#sk-container-id-1 div.sk-dashed-wrapped {border: 1px dashed gray;margin: 0 0.4em 0.5em 0.4em;box-sizing: border-box;padding-bottom: 0.4em;background-color: white;}#sk-container-id-1 div.sk-label label {font-family: monospace;font-weight: bold;display: inline-block;line-height: 1.2em;}#sk-container-id-1 div.sk-label-container {text-align: center;}#sk-container-id-1 div.sk-container {/* jupyter's `normalize.less` sets `[hidden] { display: none; }` but bootstrap.min.css set `[hidden] { display: none !important; }` so we also need the `!important` here to be able to override the default hidden behavior on the sphinx rendered scikit-learn.org. See: https://github.com/scikit-learn/scikit-learn/issues/21755 */display: inline-block !important;position: relative;}#sk-container-id-1 div.sk-text-repr-fallback {display: none;}</style><div id=\"sk-container-id-1\" class=\"sk-top-container\"><div class=\"sk-text-repr-fallback\"><pre>DataFramePreparer()</pre><b>In a Jupyter environment, please rerun this cell to show the HTML representation or trust the notebook. <br />On GitHub, the HTML representation is unable to render, please try loading this page with nbviewer.org.</b></div><div class=\"sk-container\" hidden><div class=\"sk-item\"><div class=\"sk-estimator sk-toggleable\"><input class=\"sk-toggleable__control sk-hidden--visually\" id=\"sk-estimator-id-1\" type=\"checkbox\" checked><label for=\"sk-estimator-id-1\" class=\"sk-toggleable__label sk-toggleable__label-arrow\">DataFramePreparer</label><div class=\"sk-toggleable__content\"><pre>DataFramePreparer()</pre></div></div></div></div></div>"
      ],
      "text/plain": [
       "DataFramePreparer()"
      ]
     },
     "execution_count": 8,
     "metadata": {},
     "output_type": "execute_result"
    }
   ],
   "source": [
    "# Hacemos el fit con el conjunto de datos general para que adquiera todos los valores posibles\n",
    "data_preparer.fit(X)"
   ]
  },
  {
   "cell_type": "markdown",
   "id": "1957d671",
   "metadata": {},
   "source": [
    "## Escalado del conjunto de datos"
   ]
  },
  {
   "cell_type": "code",
   "execution_count": 9,
   "id": "24bcb20d",
   "metadata": {},
   "outputs": [],
   "source": [
    "# Transformamos el subconjunto de datos de entrenamiento\n",
    "X_train_prep = data_preparer.transform(X_train)"
   ]
  },
  {
   "cell_type": "code",
   "execution_count": 10,
   "id": "c81343ce",
   "metadata": {},
   "outputs": [],
   "source": [
    "# Transformamos el subconjunto de datos de validacion\n",
    "X_test_prep = data_preparer.transform(X_test)"
   ]
  },
  {
   "cell_type": "markdown",
   "id": "9e04b54f",
   "metadata": {},
   "source": [
    "## Modelo Naive Bayes para la clasificación"
   ]
  },
  {
   "cell_type": "code",
   "execution_count": 15,
   "id": "564ace1c",
   "metadata": {},
   "outputs": [
    {
     "data": {
      "text/html": [
       "<style>#sk-container-id-3 {color: black;background-color: white;}#sk-container-id-3 pre{padding: 0;}#sk-container-id-3 div.sk-toggleable {background-color: white;}#sk-container-id-3 label.sk-toggleable__label {cursor: pointer;display: block;width: 100%;margin-bottom: 0;padding: 0.3em;box-sizing: border-box;text-align: center;}#sk-container-id-3 label.sk-toggleable__label-arrow:before {content: \"▸\";float: left;margin-right: 0.25em;color: #696969;}#sk-container-id-3 label.sk-toggleable__label-arrow:hover:before {color: black;}#sk-container-id-3 div.sk-estimator:hover label.sk-toggleable__label-arrow:before {color: black;}#sk-container-id-3 div.sk-toggleable__content {max-height: 0;max-width: 0;overflow: hidden;text-align: left;background-color: #f0f8ff;}#sk-container-id-3 div.sk-toggleable__content pre {margin: 0.2em;color: black;border-radius: 0.25em;background-color: #f0f8ff;}#sk-container-id-3 input.sk-toggleable__control:checked~div.sk-toggleable__content {max-height: 200px;max-width: 100%;overflow: auto;}#sk-container-id-3 input.sk-toggleable__control:checked~label.sk-toggleable__label-arrow:before {content: \"▾\";}#sk-container-id-3 div.sk-estimator input.sk-toggleable__control:checked~label.sk-toggleable__label {background-color: #d4ebff;}#sk-container-id-3 div.sk-label input.sk-toggleable__control:checked~label.sk-toggleable__label {background-color: #d4ebff;}#sk-container-id-3 input.sk-hidden--visually {border: 0;clip: rect(1px 1px 1px 1px);clip: rect(1px, 1px, 1px, 1px);height: 1px;margin: -1px;overflow: hidden;padding: 0;position: absolute;width: 1px;}#sk-container-id-3 div.sk-estimator {font-family: monospace;background-color: #f0f8ff;border: 1px dotted black;border-radius: 0.25em;box-sizing: border-box;margin-bottom: 0.5em;}#sk-container-id-3 div.sk-estimator:hover {background-color: #d4ebff;}#sk-container-id-3 div.sk-parallel-item::after {content: \"\";width: 100%;border-bottom: 1px solid gray;flex-grow: 1;}#sk-container-id-3 div.sk-label:hover label.sk-toggleable__label {background-color: #d4ebff;}#sk-container-id-3 div.sk-serial::before {content: \"\";position: absolute;border-left: 1px solid gray;box-sizing: border-box;top: 0;bottom: 0;left: 50%;z-index: 0;}#sk-container-id-3 div.sk-serial {display: flex;flex-direction: column;align-items: center;background-color: white;padding-right: 0.2em;padding-left: 0.2em;position: relative;}#sk-container-id-3 div.sk-item {position: relative;z-index: 1;}#sk-container-id-3 div.sk-parallel {display: flex;align-items: stretch;justify-content: center;background-color: white;position: relative;}#sk-container-id-3 div.sk-item::before, #sk-container-id-3 div.sk-parallel-item::before {content: \"\";position: absolute;border-left: 1px solid gray;box-sizing: border-box;top: 0;bottom: 0;left: 50%;z-index: -1;}#sk-container-id-3 div.sk-parallel-item {display: flex;flex-direction: column;z-index: 1;position: relative;background-color: white;}#sk-container-id-3 div.sk-parallel-item:first-child::after {align-self: flex-end;width: 50%;}#sk-container-id-3 div.sk-parallel-item:last-child::after {align-self: flex-start;width: 50%;}#sk-container-id-3 div.sk-parallel-item:only-child::after {width: 0;}#sk-container-id-3 div.sk-dashed-wrapped {border: 1px dashed gray;margin: 0 0.4em 0.5em 0.4em;box-sizing: border-box;padding-bottom: 0.4em;background-color: white;}#sk-container-id-3 div.sk-label label {font-family: monospace;font-weight: bold;display: inline-block;line-height: 1.2em;}#sk-container-id-3 div.sk-label-container {text-align: center;}#sk-container-id-3 div.sk-container {/* jupyter's `normalize.less` sets `[hidden] { display: none; }` but bootstrap.min.css set `[hidden] { display: none !important; }` so we also need the `!important` here to be able to override the default hidden behavior on the sphinx rendered scikit-learn.org. See: https://github.com/scikit-learn/scikit-learn/issues/21755 */display: inline-block !important;position: relative;}#sk-container-id-3 div.sk-text-repr-fallback {display: none;}</style><div id=\"sk-container-id-3\" class=\"sk-top-container\"><div class=\"sk-text-repr-fallback\"><pre>BernoulliNB()</pre><b>In a Jupyter environment, please rerun this cell to show the HTML representation or trust the notebook. <br />On GitHub, the HTML representation is unable to render, please try loading this page with nbviewer.org.</b></div><div class=\"sk-container\" hidden><div class=\"sk-item\"><div class=\"sk-estimator sk-toggleable\"><input class=\"sk-toggleable__control sk-hidden--visually\" id=\"sk-estimator-id-3\" type=\"checkbox\" checked><label for=\"sk-estimator-id-3\" class=\"sk-toggleable__label sk-toggleable__label-arrow\">BernoulliNB</label><div class=\"sk-toggleable__content\"><pre>BernoulliNB()</pre></div></div></div></div></div>"
      ],
      "text/plain": [
       "BernoulliNB()"
      ]
     },
     "execution_count": 15,
     "metadata": {},
     "output_type": "execute_result"
    }
   ],
   "source": [
    "model_NB = BernoulliNB()\n",
    "model_NB.fit(X_train_prep, Y_train)"
   ]
  },
  {
   "cell_type": "code",
   "execution_count": 16,
   "id": "dac91786",
   "metadata": {},
   "outputs": [
    {
     "name": "stdout",
     "output_type": "stream",
     "text": [
      "0.9991397773954567\n"
     ]
    }
   ],
   "source": [
    "# Accuracy de test del modelo \n",
    "\n",
    "Y_pred = model_NB.predict(X=X_test_prep)\n",
    "print(accuracy_score(Y_test, Y_pred))"
   ]
  },
  {
   "cell_type": "code",
   "execution_count": null,
   "id": "9d336fb0",
   "metadata": {},
   "outputs": [],
   "source": []
  }
 ],
 "metadata": {
  "kernelspec": {
   "display_name": "Python 3 (ipykernel)",
   "language": "python",
   "name": "python3"
  },
  "language_info": {
   "codemirror_mode": {
    "name": "ipython",
    "version": 3
   },
   "file_extension": ".py",
   "mimetype": "text/x-python",
   "name": "python",
   "nbconvert_exporter": "python",
   "pygments_lexer": "ipython3",
   "version": "3.10.9"
  }
 },
 "nbformat": 4,
 "nbformat_minor": 5
}
